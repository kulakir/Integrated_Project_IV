{
 "cells": [
  {
   "cell_type": "markdown",
   "id": "2ee8f9bb",
   "metadata": {
    "id": "2ee8f9bb"
   },
   "source": [
    "<img src=\"http://s3.amazonaws.com/pix.iemoji.com/images/emoji/apple/ios-12/256/waving-hand.png\" align=left width=44, heigth=44>\n",
    "<div class=\"alert alert-info\">\n",
    "<b> Комментарий ревьюера</b>\n",
    "\n",
    "\n",
    "Привет, Кирилл! Давай знакомиться! Меня зовут Дмитрий Махортов, и я буду проверять твой проект. Сразу предлагаю общение на «ты» 🙂, но если тебе это не комфортно, то дай знать, и мы перейдем на «вы».\n",
    "\n",
    "\n",
    "Моя основная цель — не указать на совершенные тобою ошибки, а поделиться своим опытом и помочь тебе погрузиться в увлекательный мир работы с данными и вырасти в крепкого профи. Это отдаленная цель. А ближайшая - сделать твою работу еще лучше )).\n",
    "   \n",
    "    \n",
    "Все ключевые этапы в работе выполнены, и я вижу что с проектом ты справшяешься. Есть моменты, которые нужно доработать, но я уверен, у тебя все получится.\n",
    "        \n",
    "Расскажу как обычно проходит проверка:    \n",
    "Бывают моменты, которые требуют пристального внимания. Комментарии по ним выделены <span style='background-color:#F7B3A4'> красным цветом </span> и обозначены значком 🛑. После их доработки проект будет принят.  🙂\n",
    "\n",
    "<span style='background-color:#B7EBA7'> Зеленым цветом </span> и значком ✅ отмечены удачные и элегантные решения, на которые можно опираться в будущих проектах. Или советы «со звездочкой», которые помогут тебе в будущем.\n",
    "\n",
    "<span style='background-color:#F9EDA6'>Жёлтым цветом </span> и значком ⚠️ выделено то, что в следующий раз можно сделать по-другому. Ты можешь учесть эти комментарии при выполнении будущих заданий или доработать проект сейчас (однако это не обязательно).\n",
    "\n",
    "Давай работать над проектом в диалоге: **если ты что-то меняешь в проекте по моим рекомендациям — пиши об этом**. Выбери для своих комментариев какой-то заметный цвет, так мне будет легче отследить изменения. Пожалуйста, **не перемещай, не изменяй и не удаляй мои комментарии**. Всё это поможет выполнить повторную проверку твоего проекта оперативнее.\n",
    "</div>"
   ]
  },
  {
   "cell_type": "markdown",
   "id": "853e4749",
   "metadata": {
    "id": "853e4749"
   },
   "source": [
    "<div class=\"alert\" style=\"background-color:#ead7f7;color:#8737bf\">\n",
    "    <font size=\"3\"><b>образец комментария студента</b></font>\n",
    "   \n",
    "Можешь использовать этот комментарий. Просто удали этот текст и вместо него напиши свой 🙂\n",
    "\n",
    "</div>"
   ]
  },
  {
   "cell_type": "markdown",
   "id": "1ff1020a",
   "metadata": {
    "cellId": "pbwq209p45adtxfy5ofecd",
    "deletable": false,
    "editable": false,
    "execution_id": "7cb94123-6481-41de-973a-91abe63db303",
    "id": "1ff1020a",
    "tags": [
     "270beaa0-19d4-4537-bff1-11e2aaed886c"
    ]
   },
   "source": [
    "# Прекод\n",
    "\n",
    "# Сборный проект-4\n",
    "\n",
    "Вам поручено разработать демонстрационную версию поиска изображений по запросу.\n",
    "\n",
    "Для демонстрационной версии нужно обучить модель, которая получит векторное представление изображения, векторное представление текста, а на выходе выдаст число от 0 до 1 — покажет, насколько текст и картинка подходят друг другу.\n",
    "\n",
    "### Описание данных\n",
    "\n",
    "Данные лежат в папке `/datasets/image_search/` или доступны по [ссылке](https://code.s3.yandex.net/datasets/dsplus_integrated_project_4.zip).\n",
    "\n",
    "В файле `train_dataset.csv` находится информация, необходимая для обучения: имя файла изображения, идентификатор описания и текст описания. Для одной картинки может быть доступно до 5 описаний. Идентификатор описания имеет формат `<имя файла изображения>#<порядковый номер описания>`.\n",
    "\n",
    "В папке `train_images` содержатся изображения для тренировки модели.\n",
    "\n",
    "В файле `CrowdAnnotations.tsv` — данные по соответствию изображения и описания, полученные с помощью краудсорсинга. Номера колонок и соответствующий тип данных:\n",
    "\n",
    "1. Имя файла изображения.\n",
    "2. Идентификатор описания.\n",
    "3. Доля людей, подтвердивших, что описание соответствует изображению.\n",
    "4. Количество человек, подтвердивших, что описание соответствует изображению.\n",
    "5. Количество человек, подтвердивших, что описание не соответствует изображению.\n",
    "\n",
    "В файле `ExpertAnnotations.tsv` содержатся данные по соответствию изображения и описания, полученные в результате опроса экспертов. Номера колонок и соответствующий тип данных:\n",
    "\n",
    "1. Имя файла изображения.\n",
    "2. Идентификатор описания.\n",
    "\n",
    "3, 4, 5 — оценки трёх экспертов.\n",
    "\n",
    "Эксперты ставят оценки по шкале от 1 до 4, где 1 — изображение и запрос совершенно не соответствуют друг другу, 2 — запрос содержит элементы описания изображения, но в целом запрос тексту не соответствует, 3 — запрос и текст соответствуют с точностью до некоторых деталей, 4 — запрос и текст соответствуют полностью.\n",
    "\n",
    "В файле `test_queries.csv` находится информация, необходимая для тестирования: идентификатор запроса, текст запроса и релевантное изображение. Для одной картинки может быть доступно до 5 описаний. Идентификатор описания имеет формат `<имя файла изображения>#<порядковый номер описания>`.\n",
    "\n",
    "В папке `test_images` содержатся изображения для тестирования модели."
   ]
  },
  {
   "cell_type": "markdown",
   "id": "593f81a0",
   "metadata": {
    "id": "593f81a0"
   },
   "source": [
    "<img src=\"https://emojigraph.org/media/apple/check-mark-button_2705.png\" align=left width=33, heigth=33>\n",
    "<div class=\"alert alert-success\">\n",
    " 👍 Да, это хорошая практика - дать описание контекста и проблемы, которую мы решаем. </div>"
   ]
  },
  {
   "cell_type": "markdown",
   "id": "99489b26",
   "metadata": {
    "cellId": "n6vkjcacwu39w29bfocxt",
    "execution_id": "1b731a18-3394-4b62-b3f7-018692c2d6de",
    "id": "99489b26"
   },
   "source": [
    "## 1. Исследовательский анализ данных\n",
    "\n",
    "Наш датасет содержит экспертные и краудсорсинговые оценки соответствия текста и изображения.\n",
    "\n",
    "В файле с экспертными мнениями для каждой пары изображение-текст имеются оценки от трёх специалистов. Для решения задачи вы должны эти оценки агрегировать — превратить в одну. Существует несколько способов агрегации оценок, самый простой — голосование большинства: за какую оценку проголосовала большая часть экспертов (в нашем случае 2 или 3), та оценка и ставится как итоговая. Поскольку число экспертов меньше числа классов, может случиться, что каждый эксперт поставит разные оценки, например: 1, 4, 2. В таком случае данную пару изображение-текст можно исключить из датасета.\n",
    "\n",
    "Вы можете воспользоваться другим методом агрегации оценок или придумать свой.\n",
    "\n",
    "В файле с краудсорсинговыми оценками информация расположена в таком порядке:\n",
    "\n",
    "1. Доля исполнителей, подтвердивших, что текст **соответствует** картинке.\n",
    "2. Количество исполнителей, подтвердивших, что текст **соответствует** картинке.\n",
    "3. Количество исполнителей, подтвердивших, что текст **не соответствует** картинке.\n",
    "\n",
    "После анализа экспертных и краудсорсинговых оценок выберите либо одну из них, либо объедините их в одну по какому-то критерию: например, оценка эксперта принимается с коэффициентом 0.6, а крауда — с коэффициентом 0.4.\n",
    "\n",
    "Ваша модель должна возвращать на выходе вероятность соответствия изображения тексту, поэтому целевая переменная должна иметь значения от 0 до 1.\n"
   ]
  },
  {
   "cell_type": "markdown",
   "id": "2bcb4027",
   "metadata": {
    "id": "2bcb4027"
   },
   "source": [
    "### Загрузка библиотек и ознакомление с данными"
   ]
  },
  {
   "cell_type": "code",
   "execution_count": 1,
   "id": "79250670",
   "metadata": {
    "cellId": "exl6m83oldxqlu1vq1s6",
    "id": "79250670",
    "outputId": "27ba9004-2b38-470b-afd3-ad90dd2476e3"
   },
   "outputs": [
    {
     "data": {
      "text/plain": [
       "True"
      ]
     },
     "execution_count": 1,
     "metadata": {},
     "output_type": "execute_result"
    }
   ],
   "source": [
    "#conda install pytorch torchvision torchaudio pytorch-cuda=12.1 -c pytorch -c nvidia\n",
    "import torch\n",
    "torch.cuda.is_available()"
   ]
  },
  {
   "cell_type": "markdown",
   "id": "85a29d0b",
   "metadata": {
    "id": "85a29d0b"
   },
   "source": [
    "<img src=\"https://upload.wikimedia.org/wikipedia/commons/b/ba/Warning_sign_4.0.png\" align=left width=44, heigth=33>\n",
    "<div class=\"alert alert-warning\">\n",
    "Мне кажется оптимальнее проверить наличие cuda после всех импортов</div>"
   ]
  },
  {
   "cell_type": "code",
   "execution_count": 2,
   "id": "40096059",
   "metadata": {
    "id": "40096059"
   },
   "outputs": [],
   "source": [
    "#pip install -U crowd-kit lightning sentence-transformers gdown"
   ]
  },
  {
   "cell_type": "code",
   "execution_count": 3,
   "id": "6146533c",
   "metadata": {
    "id": "6146533c",
    "outputId": "c4200c90-a3f0-461b-d1c0-4b27c97c3265"
   },
   "outputs": [
    {
     "name": "stderr",
     "output_type": "stream",
     "text": [
      "[nltk_data] Downloading package stopwords to\n",
      "[nltk_data]     C:\\Users\\kkkul\\AppData\\Roaming\\nltk_data...\n",
      "[nltk_data]   Package stopwords is already up-to-date!\n",
      "[nltk_data] Downloading package wordnet to\n",
      "[nltk_data]     C:\\Users\\kkkul\\AppData\\Roaming\\nltk_data...\n",
      "[nltk_data]   Package wordnet is already up-to-date!\n",
      "[nltk_data] Downloading package omw-1.4 to\n",
      "[nltk_data]     C:\\Users\\kkkul\\AppData\\Roaming\\nltk_data...\n",
      "[nltk_data]   Package omw-1.4 is already up-to-date!\n",
      "[nltk_data] Downloading package punkt to\n",
      "[nltk_data]     C:\\Users\\kkkul\\AppData\\Roaming\\nltk_data...\n",
      "[nltk_data]   Package punkt is already up-to-date!\n",
      "[nltk_data] Downloading package averaged_perceptron_tagger to\n",
      "[nltk_data]     C:\\Users\\kkkul\\AppData\\Roaming\\nltk_data...\n",
      "[nltk_data]   Package averaged_perceptron_tagger is already up-to-\n",
      "[nltk_data]       date!\n"
     ]
    }
   ],
   "source": [
    "import pandas as pd\n",
    "import numpy as np\n",
    "import torchvision.models as models\n",
    "from torchvision.models import ResNet18_Weights\n",
    "import seaborn as sns\n",
    "import matplotlib.pyplot as plt\n",
    "from torchvision import transforms\n",
    "from PIL import Image\n",
    "import os\n",
    "import torch.nn as nn\n",
    "import nltk\n",
    "from nltk.corpus import wordnet\n",
    "from nltk.corpus import stopwords as nltk_stopwords\n",
    "from sklearn.feature_extraction.text import TfidfVectorizer\n",
    "nltk.download('stopwords')\n",
    "import re\n",
    "from nltk.stem import WordNetLemmatizer\n",
    "nltk.download('wordnet')\n",
    "nltk.download('omw-1.4')\n",
    "nltk.download('punkt')\n",
    "nltk.download('averaged_perceptron_tagger')\n",
    "from tqdm.notebook import tqdm\n",
    "tqdm.pandas()\n",
    "from sklearn.model_selection import GroupShuffleSplit\n",
    "from sklearn.linear_model import LinearRegression\n",
    "from sklearn.metrics import mean_squared_error\n",
    "from sklearn.preprocessing import StandardScaler, RobustScaler\n",
    "from catboost import CatBoostRegressor\n",
    "from sklearn.model_selection import GridSearchCV\n",
    "from math import ceil\n",
    "import random\n",
    "from transformers import BertTokenizer\n",
    "from tqdm import notebook\n",
    "import transformers"
   ]
  },
  {
   "cell_type": "markdown",
   "id": "e4769ab7",
   "metadata": {
    "id": "e4769ab7"
   },
   "source": [
    "<img src=\"https://emojigraph.org/media/apple/check-mark-button_2705.png\" align=left width=33, heigth=33>\n",
    "<div class=\"alert alert-success\">\n",
    " 👍 Да, это хорошая практика - дать описание контекста и проблемы, которую мы решаем. </div>"
   ]
  },
  {
   "cell_type": "code",
   "execution_count": 4,
   "id": "09f48d35",
   "metadata": {
    "id": "09f48d35",
    "outputId": "6333312e-ac00-4f04-8719-0351700019d7",
    "scrolled": true
   },
   "outputs": [
    {
     "data": {
      "text/html": [
       "<div>\n",
       "<style scoped>\n",
       "    .dataframe tbody tr th:only-of-type {\n",
       "        vertical-align: middle;\n",
       "    }\n",
       "\n",
       "    .dataframe tbody tr th {\n",
       "        vertical-align: top;\n",
       "    }\n",
       "\n",
       "    .dataframe thead th {\n",
       "        text-align: right;\n",
       "    }\n",
       "</style>\n",
       "<table border=\"1\" class=\"dataframe\">\n",
       "  <thead>\n",
       "    <tr style=\"text-align: right;\">\n",
       "      <th></th>\n",
       "      <th>image</th>\n",
       "      <th>query_id</th>\n",
       "      <th>query_text</th>\n",
       "    </tr>\n",
       "  </thead>\n",
       "  <tbody>\n",
       "    <tr>\n",
       "      <th>0</th>\n",
       "      <td>1056338697_4f7d7ce270.jpg</td>\n",
       "      <td>2549968784_39bfbe44f9.jpg#2</td>\n",
       "      <td>A young child is wearing blue goggles and sitt...</td>\n",
       "    </tr>\n",
       "    <tr>\n",
       "      <th>1</th>\n",
       "      <td>1262583859_653f1469a9.jpg</td>\n",
       "      <td>2549968784_39bfbe44f9.jpg#2</td>\n",
       "      <td>A young child is wearing blue goggles and sitt...</td>\n",
       "    </tr>\n",
       "    <tr>\n",
       "      <th>2</th>\n",
       "      <td>2447284966_d6bbdb4b6e.jpg</td>\n",
       "      <td>2549968784_39bfbe44f9.jpg#2</td>\n",
       "      <td>A young child is wearing blue goggles and sitt...</td>\n",
       "    </tr>\n",
       "    <tr>\n",
       "      <th>3</th>\n",
       "      <td>2549968784_39bfbe44f9.jpg</td>\n",
       "      <td>2549968784_39bfbe44f9.jpg#2</td>\n",
       "      <td>A young child is wearing blue goggles and sitt...</td>\n",
       "    </tr>\n",
       "    <tr>\n",
       "      <th>4</th>\n",
       "      <td>2621415349_ef1a7e73be.jpg</td>\n",
       "      <td>2549968784_39bfbe44f9.jpg#2</td>\n",
       "      <td>A young child is wearing blue goggles and sitt...</td>\n",
       "    </tr>\n",
       "    <tr>\n",
       "      <th>5</th>\n",
       "      <td>3030566410_393c36a6c5.jpg</td>\n",
       "      <td>2549968784_39bfbe44f9.jpg#2</td>\n",
       "      <td>A young child is wearing blue goggles and sitt...</td>\n",
       "    </tr>\n",
       "    <tr>\n",
       "      <th>6</th>\n",
       "      <td>3155451946_c0862c70cb.jpg</td>\n",
       "      <td>2549968784_39bfbe44f9.jpg#2</td>\n",
       "      <td>A young child is wearing blue goggles and sitt...</td>\n",
       "    </tr>\n",
       "    <tr>\n",
       "      <th>7</th>\n",
       "      <td>3222041930_f642f49d28.jpg</td>\n",
       "      <td>2549968784_39bfbe44f9.jpg#2</td>\n",
       "      <td>A young child is wearing blue goggles and sitt...</td>\n",
       "    </tr>\n",
       "    <tr>\n",
       "      <th>8</th>\n",
       "      <td>343218198_1ca90e0734.jpg</td>\n",
       "      <td>2549968784_39bfbe44f9.jpg#2</td>\n",
       "      <td>A young child is wearing blue goggles and sitt...</td>\n",
       "    </tr>\n",
       "    <tr>\n",
       "      <th>9</th>\n",
       "      <td>3718964174_cb2dc1615e.jpg</td>\n",
       "      <td>2549968784_39bfbe44f9.jpg#2</td>\n",
       "      <td>A young child is wearing blue goggles and sitt...</td>\n",
       "    </tr>\n",
       "  </tbody>\n",
       "</table>\n",
       "</div>"
      ],
      "text/plain": [
       "                       image                     query_id  \\\n",
       "0  1056338697_4f7d7ce270.jpg  2549968784_39bfbe44f9.jpg#2   \n",
       "1  1262583859_653f1469a9.jpg  2549968784_39bfbe44f9.jpg#2   \n",
       "2  2447284966_d6bbdb4b6e.jpg  2549968784_39bfbe44f9.jpg#2   \n",
       "3  2549968784_39bfbe44f9.jpg  2549968784_39bfbe44f9.jpg#2   \n",
       "4  2621415349_ef1a7e73be.jpg  2549968784_39bfbe44f9.jpg#2   \n",
       "5  3030566410_393c36a6c5.jpg  2549968784_39bfbe44f9.jpg#2   \n",
       "6  3155451946_c0862c70cb.jpg  2549968784_39bfbe44f9.jpg#2   \n",
       "7  3222041930_f642f49d28.jpg  2549968784_39bfbe44f9.jpg#2   \n",
       "8   343218198_1ca90e0734.jpg  2549968784_39bfbe44f9.jpg#2   \n",
       "9  3718964174_cb2dc1615e.jpg  2549968784_39bfbe44f9.jpg#2   \n",
       "\n",
       "                                          query_text  \n",
       "0  A young child is wearing blue goggles and sitt...  \n",
       "1  A young child is wearing blue goggles and sitt...  \n",
       "2  A young child is wearing blue goggles and sitt...  \n",
       "3  A young child is wearing blue goggles and sitt...  \n",
       "4  A young child is wearing blue goggles and sitt...  \n",
       "5  A young child is wearing blue goggles and sitt...  \n",
       "6  A young child is wearing blue goggles and sitt...  \n",
       "7  A young child is wearing blue goggles and sitt...  \n",
       "8  A young child is wearing blue goggles and sitt...  \n",
       "9  A young child is wearing blue goggles and sitt...  "
      ]
     },
     "execution_count": 4,
     "metadata": {},
     "output_type": "execute_result"
    }
   ],
   "source": [
    "df_train = pd.read_csv('./train_dataset.csv')\n",
    "df_train.head(10)"
   ]
  },
  {
   "cell_type": "markdown",
   "id": "58da5493",
   "metadata": {
    "id": "58da5493"
   },
   "source": [
    "<img src=\"https://upload.wikimedia.org/wikipedia/commons/b/ba/Warning_sign_4.0.png\" align=left width=44, heigth=33>\n",
    "<div class=\"alert alert-warning\">\n",
    "Очень \"больная тема\" - это загрузка данных и использование путей.Очевидно, что на моей машине (и скорее всего машине любого другого пользователя) пути к данным будут другие. И это \"рабочая ситуация для большинства проектов. Решается она следующим образом:\n",
    "\n",
    "    \n",
    "  - Путь к директории с данными  должен быть задан в константе, в самом начале работы. Тогда ревьюеру (или любому другому пользователю твоего ноутбука, даже тебе самому, если нужно будет провести презентацию руководителю на другом компьютере) нужно будет изменить только этот путь.\n",
    "  - Все остальные пути внутри ноутбука должны быть созданы с исопользованием этой константы, а не заданы жестко (есть сленговое определение \"хардкод\").  Более  того, настоятельно рекомендую для создания сложных путей вместо простой конкатерации строк с исползованием '/' использовать os.path.join(), тогда код будет одинаково надежно работать и в среде Windows и Linux (MacOS).\n",
    "   \n",
    "\n",
    "\n",
    "А вот это образец универсального кода для загрузки данных    \n",
    "    \n",
    "    DATA_PATH = твой путь    \n",
    "    \n",
    "    df_train = pd.read_csv(os.path.join(DATA_PATH, 'train_dataset.csv'))\n",
    "    ....\n",
    "    \n",
    "--------------\n",
    "    \n",
    "Обычно этот комментарий красный, в твоем случае ограничился желтым т.к. ты используешь относительне пути и технически достаточно просто сменить рабочую папку.    \n",
    "</div>"
   ]
  },
  {
   "cell_type": "code",
   "execution_count": 5,
   "id": "a545d158",
   "metadata": {
    "id": "a545d158",
    "outputId": "c57e848b-f2d7-44df-ff03-c54567b726de"
   },
   "outputs": [
    {
     "name": "stdout",
     "output_type": "stream",
     "text": [
      "<class 'pandas.core.frame.DataFrame'>\n",
      "RangeIndex: 5822 entries, 0 to 5821\n",
      "Data columns (total 3 columns):\n",
      " #   Column      Non-Null Count  Dtype \n",
      "---  ------      --------------  ----- \n",
      " 0   image       5822 non-null   object\n",
      " 1   query_id    5822 non-null   object\n",
      " 2   query_text  5822 non-null   object\n",
      "dtypes: object(3)\n",
      "memory usage: 136.6+ KB\n"
     ]
    }
   ],
   "source": [
    "df_train.info()"
   ]
  },
  {
   "cell_type": "code",
   "execution_count": 6,
   "id": "e8288bda",
   "metadata": {
    "id": "e8288bda",
    "outputId": "bd850140-4c9d-4680-e8ee-8ac2bba9a2db",
    "scrolled": true
   },
   "outputs": [
    {
     "data": {
      "text/html": [
       "<div>\n",
       "<style scoped>\n",
       "    .dataframe tbody tr th:only-of-type {\n",
       "        vertical-align: middle;\n",
       "    }\n",
       "\n",
       "    .dataframe tbody tr th {\n",
       "        vertical-align: top;\n",
       "    }\n",
       "\n",
       "    .dataframe thead th {\n",
       "        text-align: right;\n",
       "    }\n",
       "</style>\n",
       "<table border=\"1\" class=\"dataframe\">\n",
       "  <thead>\n",
       "    <tr style=\"text-align: right;\">\n",
       "      <th></th>\n",
       "      <th>image</th>\n",
       "      <th>query_id</th>\n",
       "      <th>score_confirm</th>\n",
       "      <th>num_agree</th>\n",
       "      <th>num_disagree</th>\n",
       "    </tr>\n",
       "  </thead>\n",
       "  <tbody>\n",
       "    <tr>\n",
       "      <th>0</th>\n",
       "      <td>1056338697_4f7d7ce270.jpg</td>\n",
       "      <td>1056338697_4f7d7ce270.jpg#2</td>\n",
       "      <td>1.000000</td>\n",
       "      <td>3</td>\n",
       "      <td>0</td>\n",
       "    </tr>\n",
       "    <tr>\n",
       "      <th>1</th>\n",
       "      <td>1056338697_4f7d7ce270.jpg</td>\n",
       "      <td>114051287_dd85625a04.jpg#2</td>\n",
       "      <td>0.000000</td>\n",
       "      <td>0</td>\n",
       "      <td>3</td>\n",
       "    </tr>\n",
       "    <tr>\n",
       "      <th>2</th>\n",
       "      <td>1056338697_4f7d7ce270.jpg</td>\n",
       "      <td>1427391496_ea512cbe7f.jpg#2</td>\n",
       "      <td>0.000000</td>\n",
       "      <td>0</td>\n",
       "      <td>3</td>\n",
       "    </tr>\n",
       "    <tr>\n",
       "      <th>3</th>\n",
       "      <td>1056338697_4f7d7ce270.jpg</td>\n",
       "      <td>2073964624_52da3a0fc4.jpg#2</td>\n",
       "      <td>0.000000</td>\n",
       "      <td>0</td>\n",
       "      <td>3</td>\n",
       "    </tr>\n",
       "    <tr>\n",
       "      <th>4</th>\n",
       "      <td>1056338697_4f7d7ce270.jpg</td>\n",
       "      <td>2083434441_a93bc6306b.jpg#2</td>\n",
       "      <td>0.000000</td>\n",
       "      <td>0</td>\n",
       "      <td>3</td>\n",
       "    </tr>\n",
       "    <tr>\n",
       "      <th>5</th>\n",
       "      <td>1056338697_4f7d7ce270.jpg</td>\n",
       "      <td>2204550058_2707d92338.jpg#2</td>\n",
       "      <td>0.000000</td>\n",
       "      <td>0</td>\n",
       "      <td>3</td>\n",
       "    </tr>\n",
       "    <tr>\n",
       "      <th>6</th>\n",
       "      <td>1056338697_4f7d7ce270.jpg</td>\n",
       "      <td>2224450291_4c133fabe8.jpg#2</td>\n",
       "      <td>0.000000</td>\n",
       "      <td>0</td>\n",
       "      <td>3</td>\n",
       "    </tr>\n",
       "    <tr>\n",
       "      <th>7</th>\n",
       "      <td>1056338697_4f7d7ce270.jpg</td>\n",
       "      <td>2248487950_c62d0c81a9.jpg#2</td>\n",
       "      <td>0.333333</td>\n",
       "      <td>1</td>\n",
       "      <td>2</td>\n",
       "    </tr>\n",
       "    <tr>\n",
       "      <th>8</th>\n",
       "      <td>1056338697_4f7d7ce270.jpg</td>\n",
       "      <td>2307118114_c258e3a47e.jpg#2</td>\n",
       "      <td>0.000000</td>\n",
       "      <td>0</td>\n",
       "      <td>3</td>\n",
       "    </tr>\n",
       "    <tr>\n",
       "      <th>9</th>\n",
       "      <td>1056338697_4f7d7ce270.jpg</td>\n",
       "      <td>2309860995_c2e2a0feeb.jpg#2</td>\n",
       "      <td>0.000000</td>\n",
       "      <td>0</td>\n",
       "      <td>3</td>\n",
       "    </tr>\n",
       "  </tbody>\n",
       "</table>\n",
       "</div>"
      ],
      "text/plain": [
       "                       image                     query_id  score_confirm  \\\n",
       "0  1056338697_4f7d7ce270.jpg  1056338697_4f7d7ce270.jpg#2       1.000000   \n",
       "1  1056338697_4f7d7ce270.jpg   114051287_dd85625a04.jpg#2       0.000000   \n",
       "2  1056338697_4f7d7ce270.jpg  1427391496_ea512cbe7f.jpg#2       0.000000   \n",
       "3  1056338697_4f7d7ce270.jpg  2073964624_52da3a0fc4.jpg#2       0.000000   \n",
       "4  1056338697_4f7d7ce270.jpg  2083434441_a93bc6306b.jpg#2       0.000000   \n",
       "5  1056338697_4f7d7ce270.jpg  2204550058_2707d92338.jpg#2       0.000000   \n",
       "6  1056338697_4f7d7ce270.jpg  2224450291_4c133fabe8.jpg#2       0.000000   \n",
       "7  1056338697_4f7d7ce270.jpg  2248487950_c62d0c81a9.jpg#2       0.333333   \n",
       "8  1056338697_4f7d7ce270.jpg  2307118114_c258e3a47e.jpg#2       0.000000   \n",
       "9  1056338697_4f7d7ce270.jpg  2309860995_c2e2a0feeb.jpg#2       0.000000   \n",
       "\n",
       "   num_agree  num_disagree  \n",
       "0          3             0  \n",
       "1          0             3  \n",
       "2          0             3  \n",
       "3          0             3  \n",
       "4          0             3  \n",
       "5          0             3  \n",
       "6          0             3  \n",
       "7          1             2  \n",
       "8          0             3  \n",
       "9          0             3  "
      ]
     },
     "execution_count": 6,
     "metadata": {},
     "output_type": "execute_result"
    }
   ],
   "source": [
    "crowd_columns = ['image', 'query_id', 'score_confirm', 'num_agree', 'num_disagree']\n",
    "df_crowd = pd.read_csv('./CrowdAnnotations.tsv', sep='\\t', names=crowd_columns)\n",
    "df_crowd.head(10)"
   ]
  },
  {
   "cell_type": "code",
   "execution_count": 7,
   "id": "036796e9",
   "metadata": {
    "id": "036796e9",
    "outputId": "cbae3dcd-dcd2-4975-8bb8-ea0bcae0fad1"
   },
   "outputs": [
    {
     "name": "stdout",
     "output_type": "stream",
     "text": [
      "<class 'pandas.core.frame.DataFrame'>\n",
      "RangeIndex: 47830 entries, 0 to 47829\n",
      "Data columns (total 5 columns):\n",
      " #   Column         Non-Null Count  Dtype  \n",
      "---  ------         --------------  -----  \n",
      " 0   image          47830 non-null  object \n",
      " 1   query_id       47830 non-null  object \n",
      " 2   score_confirm  47830 non-null  float64\n",
      " 3   num_agree      47830 non-null  int64  \n",
      " 4   num_disagree   47830 non-null  int64  \n",
      "dtypes: float64(1), int64(2), object(2)\n",
      "memory usage: 1.8+ MB\n"
     ]
    }
   ],
   "source": [
    "df_crowd.info()"
   ]
  },
  {
   "cell_type": "code",
   "execution_count": 8,
   "id": "38da06e4",
   "metadata": {
    "id": "38da06e4",
    "outputId": "692a4e4d-f68b-4d71-91c8-93ddff431f55",
    "scrolled": true
   },
   "outputs": [
    {
     "data": {
      "text/html": [
       "<div>\n",
       "<style scoped>\n",
       "    .dataframe tbody tr th:only-of-type {\n",
       "        vertical-align: middle;\n",
       "    }\n",
       "\n",
       "    .dataframe tbody tr th {\n",
       "        vertical-align: top;\n",
       "    }\n",
       "\n",
       "    .dataframe thead th {\n",
       "        text-align: right;\n",
       "    }\n",
       "</style>\n",
       "<table border=\"1\" class=\"dataframe\">\n",
       "  <thead>\n",
       "    <tr style=\"text-align: right;\">\n",
       "      <th></th>\n",
       "      <th>image</th>\n",
       "      <th>query_id</th>\n",
       "      <th>expert_1</th>\n",
       "      <th>expert_2</th>\n",
       "      <th>expert_3</th>\n",
       "    </tr>\n",
       "  </thead>\n",
       "  <tbody>\n",
       "    <tr>\n",
       "      <th>0</th>\n",
       "      <td>1056338697_4f7d7ce270.jpg</td>\n",
       "      <td>2549968784_39bfbe44f9.jpg#2</td>\n",
       "      <td>1</td>\n",
       "      <td>1</td>\n",
       "      <td>1</td>\n",
       "    </tr>\n",
       "    <tr>\n",
       "      <th>1</th>\n",
       "      <td>1056338697_4f7d7ce270.jpg</td>\n",
       "      <td>2718495608_d8533e3ac5.jpg#2</td>\n",
       "      <td>1</td>\n",
       "      <td>1</td>\n",
       "      <td>2</td>\n",
       "    </tr>\n",
       "    <tr>\n",
       "      <th>2</th>\n",
       "      <td>1056338697_4f7d7ce270.jpg</td>\n",
       "      <td>3181701312_70a379ab6e.jpg#2</td>\n",
       "      <td>1</td>\n",
       "      <td>1</td>\n",
       "      <td>2</td>\n",
       "    </tr>\n",
       "    <tr>\n",
       "      <th>3</th>\n",
       "      <td>1056338697_4f7d7ce270.jpg</td>\n",
       "      <td>3207358897_bfa61fa3c6.jpg#2</td>\n",
       "      <td>1</td>\n",
       "      <td>2</td>\n",
       "      <td>2</td>\n",
       "    </tr>\n",
       "    <tr>\n",
       "      <th>4</th>\n",
       "      <td>1056338697_4f7d7ce270.jpg</td>\n",
       "      <td>3286822339_5535af6b93.jpg#2</td>\n",
       "      <td>1</td>\n",
       "      <td>1</td>\n",
       "      <td>2</td>\n",
       "    </tr>\n",
       "    <tr>\n",
       "      <th>5</th>\n",
       "      <td>1056338697_4f7d7ce270.jpg</td>\n",
       "      <td>3360930596_1e75164ce6.jpg#2</td>\n",
       "      <td>1</td>\n",
       "      <td>1</td>\n",
       "      <td>1</td>\n",
       "    </tr>\n",
       "    <tr>\n",
       "      <th>6</th>\n",
       "      <td>1056338697_4f7d7ce270.jpg</td>\n",
       "      <td>3545652636_0746537307.jpg#2</td>\n",
       "      <td>1</td>\n",
       "      <td>1</td>\n",
       "      <td>1</td>\n",
       "    </tr>\n",
       "    <tr>\n",
       "      <th>7</th>\n",
       "      <td>1056338697_4f7d7ce270.jpg</td>\n",
       "      <td>434792818_56375e203f.jpg#2</td>\n",
       "      <td>1</td>\n",
       "      <td>1</td>\n",
       "      <td>2</td>\n",
       "    </tr>\n",
       "    <tr>\n",
       "      <th>8</th>\n",
       "      <td>106490881_5a2dd9b7bd.jpg</td>\n",
       "      <td>1425069308_488e5fcf9d.jpg#2</td>\n",
       "      <td>1</td>\n",
       "      <td>1</td>\n",
       "      <td>1</td>\n",
       "    </tr>\n",
       "    <tr>\n",
       "      <th>9</th>\n",
       "      <td>106490881_5a2dd9b7bd.jpg</td>\n",
       "      <td>1714316707_8bbaa2a2ba.jpg#2</td>\n",
       "      <td>2</td>\n",
       "      <td>2</td>\n",
       "      <td>2</td>\n",
       "    </tr>\n",
       "  </tbody>\n",
       "</table>\n",
       "</div>"
      ],
      "text/plain": [
       "                       image                     query_id  expert_1  expert_2  \\\n",
       "0  1056338697_4f7d7ce270.jpg  2549968784_39bfbe44f9.jpg#2         1         1   \n",
       "1  1056338697_4f7d7ce270.jpg  2718495608_d8533e3ac5.jpg#2         1         1   \n",
       "2  1056338697_4f7d7ce270.jpg  3181701312_70a379ab6e.jpg#2         1         1   \n",
       "3  1056338697_4f7d7ce270.jpg  3207358897_bfa61fa3c6.jpg#2         1         2   \n",
       "4  1056338697_4f7d7ce270.jpg  3286822339_5535af6b93.jpg#2         1         1   \n",
       "5  1056338697_4f7d7ce270.jpg  3360930596_1e75164ce6.jpg#2         1         1   \n",
       "6  1056338697_4f7d7ce270.jpg  3545652636_0746537307.jpg#2         1         1   \n",
       "7  1056338697_4f7d7ce270.jpg   434792818_56375e203f.jpg#2         1         1   \n",
       "8   106490881_5a2dd9b7bd.jpg  1425069308_488e5fcf9d.jpg#2         1         1   \n",
       "9   106490881_5a2dd9b7bd.jpg  1714316707_8bbaa2a2ba.jpg#2         2         2   \n",
       "\n",
       "   expert_3  \n",
       "0         1  \n",
       "1         2  \n",
       "2         2  \n",
       "3         2  \n",
       "4         2  \n",
       "5         1  \n",
       "6         1  \n",
       "7         2  \n",
       "8         1  \n",
       "9         2  "
      ]
     },
     "execution_count": 8,
     "metadata": {},
     "output_type": "execute_result"
    }
   ],
   "source": [
    "expert_columns = ['image', 'query_id', 'expert_1', 'expert_2', 'expert_3']\n",
    "df_exp = pd.read_csv('./ExpertAnnotations.tsv', sep='\\t', names=expert_columns)\n",
    "df_exp.head(10)"
   ]
  },
  {
   "cell_type": "code",
   "execution_count": 9,
   "id": "6fe3e423",
   "metadata": {
    "id": "6fe3e423",
    "outputId": "19ee171b-ba8e-469a-aeac-6bfab03018bb",
    "scrolled": true
   },
   "outputs": [
    {
     "name": "stdout",
     "output_type": "stream",
     "text": [
      "<class 'pandas.core.frame.DataFrame'>\n",
      "RangeIndex: 5822 entries, 0 to 5821\n",
      "Data columns (total 5 columns):\n",
      " #   Column    Non-Null Count  Dtype \n",
      "---  ------    --------------  ----- \n",
      " 0   image     5822 non-null   object\n",
      " 1   query_id  5822 non-null   object\n",
      " 2   expert_1  5822 non-null   int64 \n",
      " 3   expert_2  5822 non-null   int64 \n",
      " 4   expert_3  5822 non-null   int64 \n",
      "dtypes: int64(3), object(2)\n",
      "memory usage: 227.5+ KB\n"
     ]
    }
   ],
   "source": [
    "df_exp.info()"
   ]
  },
  {
   "cell_type": "code",
   "execution_count": 10,
   "id": "419a4dc8",
   "metadata": {
    "id": "419a4dc8",
    "outputId": "013ae0ea-56dc-48c6-e69f-05f23c833bd7",
    "scrolled": true
   },
   "outputs": [
    {
     "data": {
      "text/html": [
       "<div>\n",
       "<style scoped>\n",
       "    .dataframe tbody tr th:only-of-type {\n",
       "        vertical-align: middle;\n",
       "    }\n",
       "\n",
       "    .dataframe tbody tr th {\n",
       "        vertical-align: top;\n",
       "    }\n",
       "\n",
       "    .dataframe thead th {\n",
       "        text-align: right;\n",
       "    }\n",
       "</style>\n",
       "<table border=\"1\" class=\"dataframe\">\n",
       "  <thead>\n",
       "    <tr style=\"text-align: right;\">\n",
       "      <th></th>\n",
       "      <th>Unnamed: 0</th>\n",
       "      <th>query_id</th>\n",
       "      <th>query_text</th>\n",
       "      <th>image</th>\n",
       "    </tr>\n",
       "  </thead>\n",
       "  <tbody>\n",
       "    <tr>\n",
       "      <th>0</th>\n",
       "      <td>0</td>\n",
       "      <td>1177994172_10d143cb8d.jpg#0</td>\n",
       "      <td>Two blonde boys , one in a camouflage shirt an...</td>\n",
       "      <td>1177994172_10d143cb8d.jpg</td>\n",
       "    </tr>\n",
       "    <tr>\n",
       "      <th>1</th>\n",
       "      <td>1</td>\n",
       "      <td>1177994172_10d143cb8d.jpg#1</td>\n",
       "      <td>Two boys are squirting water guns at each other .</td>\n",
       "      <td>1177994172_10d143cb8d.jpg</td>\n",
       "    </tr>\n",
       "    <tr>\n",
       "      <th>2</th>\n",
       "      <td>2</td>\n",
       "      <td>1177994172_10d143cb8d.jpg#2</td>\n",
       "      <td>Two boys spraying each other with water</td>\n",
       "      <td>1177994172_10d143cb8d.jpg</td>\n",
       "    </tr>\n",
       "    <tr>\n",
       "      <th>3</th>\n",
       "      <td>3</td>\n",
       "      <td>1177994172_10d143cb8d.jpg#3</td>\n",
       "      <td>Two children wearing jeans squirt water at eac...</td>\n",
       "      <td>1177994172_10d143cb8d.jpg</td>\n",
       "    </tr>\n",
       "    <tr>\n",
       "      <th>4</th>\n",
       "      <td>4</td>\n",
       "      <td>1177994172_10d143cb8d.jpg#4</td>\n",
       "      <td>Two young boys are squirting water at each oth...</td>\n",
       "      <td>1177994172_10d143cb8d.jpg</td>\n",
       "    </tr>\n",
       "    <tr>\n",
       "      <th>5</th>\n",
       "      <td>5</td>\n",
       "      <td>1232148178_4f45cc3284.jpg#0</td>\n",
       "      <td>A baby girl playing at a park .</td>\n",
       "      <td>1232148178_4f45cc3284.jpg</td>\n",
       "    </tr>\n",
       "    <tr>\n",
       "      <th>6</th>\n",
       "      <td>6</td>\n",
       "      <td>1232148178_4f45cc3284.jpg#1</td>\n",
       "      <td>A closeup of a child on a playground with adul...</td>\n",
       "      <td>1232148178_4f45cc3284.jpg</td>\n",
       "    </tr>\n",
       "    <tr>\n",
       "      <th>7</th>\n",
       "      <td>7</td>\n",
       "      <td>1232148178_4f45cc3284.jpg#2</td>\n",
       "      <td>A young boy poses for a picture in front of a ...</td>\n",
       "      <td>1232148178_4f45cc3284.jpg</td>\n",
       "    </tr>\n",
       "    <tr>\n",
       "      <th>8</th>\n",
       "      <td>8</td>\n",
       "      <td>1232148178_4f45cc3284.jpg#3</td>\n",
       "      <td>A young girl is smiling in front of the camera...</td>\n",
       "      <td>1232148178_4f45cc3284.jpg</td>\n",
       "    </tr>\n",
       "    <tr>\n",
       "      <th>9</th>\n",
       "      <td>9</td>\n",
       "      <td>1232148178_4f45cc3284.jpg#4</td>\n",
       "      <td>There is a little blond hair girl with a green...</td>\n",
       "      <td>1232148178_4f45cc3284.jpg</td>\n",
       "    </tr>\n",
       "  </tbody>\n",
       "</table>\n",
       "</div>"
      ],
      "text/plain": [
       "   Unnamed: 0                     query_id  \\\n",
       "0           0  1177994172_10d143cb8d.jpg#0   \n",
       "1           1  1177994172_10d143cb8d.jpg#1   \n",
       "2           2  1177994172_10d143cb8d.jpg#2   \n",
       "3           3  1177994172_10d143cb8d.jpg#3   \n",
       "4           4  1177994172_10d143cb8d.jpg#4   \n",
       "5           5  1232148178_4f45cc3284.jpg#0   \n",
       "6           6  1232148178_4f45cc3284.jpg#1   \n",
       "7           7  1232148178_4f45cc3284.jpg#2   \n",
       "8           8  1232148178_4f45cc3284.jpg#3   \n",
       "9           9  1232148178_4f45cc3284.jpg#4   \n",
       "\n",
       "                                          query_text  \\\n",
       "0  Two blonde boys , one in a camouflage shirt an...   \n",
       "1  Two boys are squirting water guns at each other .   \n",
       "2            Two boys spraying each other with water   \n",
       "3  Two children wearing jeans squirt water at eac...   \n",
       "4  Two young boys are squirting water at each oth...   \n",
       "5                    A baby girl playing at a park .   \n",
       "6  A closeup of a child on a playground with adul...   \n",
       "7  A young boy poses for a picture in front of a ...   \n",
       "8  A young girl is smiling in front of the camera...   \n",
       "9  There is a little blond hair girl with a green...   \n",
       "\n",
       "                       image  \n",
       "0  1177994172_10d143cb8d.jpg  \n",
       "1  1177994172_10d143cb8d.jpg  \n",
       "2  1177994172_10d143cb8d.jpg  \n",
       "3  1177994172_10d143cb8d.jpg  \n",
       "4  1177994172_10d143cb8d.jpg  \n",
       "5  1232148178_4f45cc3284.jpg  \n",
       "6  1232148178_4f45cc3284.jpg  \n",
       "7  1232148178_4f45cc3284.jpg  \n",
       "8  1232148178_4f45cc3284.jpg  \n",
       "9  1232148178_4f45cc3284.jpg  "
      ]
     },
     "execution_count": 10,
     "metadata": {},
     "output_type": "execute_result"
    }
   ],
   "source": [
    "df_test = pd.read_csv('./test_queries.csv', sep='|')\n",
    "df_test.head(10)"
   ]
  },
  {
   "cell_type": "code",
   "execution_count": 11,
   "id": "3f630992",
   "metadata": {},
   "outputs": [
    {
     "data": {
      "text/plain": [
       "(977,)"
      ]
     },
     "execution_count": 11,
     "metadata": {},
     "output_type": "execute_result"
    }
   ],
   "source": [
    "df_train['query_text'].unique().shape"
   ]
  },
  {
   "cell_type": "markdown",
   "id": "95a0954d",
   "metadata": {
    "id": "95a0954d"
   },
   "source": [
    "<img src=\"https://upload.wikimedia.org/wikipedia/commons/b/ba/Warning_sign_4.0.png\" align=left width=44, heigth=33>\n",
    "<div class=\"alert alert-warning\">\n",
    "    \n",
    "Мне кажется что знакомство с данными можно провести более интересно и сформировать значимые выводы. Попробую сформулировать вопросы, ответить на которые будет интересно:\n",
    "  - Количество уникальных изображений в обучающем и тестовом наборах\n",
    "  - Количество уникальных запросов  \n",
    "  - Количество оценок в экспертном и краудсорсинговом наборах.\n",
    "\n",
    "Ну и конечно интересно посмотреть на изображения из датасета (возможно вместе с описаниями).   \n",
    "    \n",
    "    \n",
    "</div>"
   ]
  },
  {
   "cell_type": "markdown",
   "id": "887b9aba",
   "metadata": {
    "id": "887b9aba"
   },
   "source": [
    "### Исследование с помощью графического анализа"
   ]
  },
  {
   "cell_type": "code",
   "execution_count": 12,
   "id": "5d923784",
   "metadata": {
    "id": "5d923784",
    "outputId": "449466e7-a207-47c4-959d-7c0aeed55e0b",
    "scrolled": true
   },
   "outputs": [
    {
     "data": {
      "image/png": "[encoded data removed]",
      "text/plain": [
       "<Figure size 640x480 with 1 Axes>"
      ]
     },
     "metadata": {},
     "output_type": "display_data"
    }
   ],
   "source": [
    "sns.histplot(data=df_exp, bins=4, discrete=True);\n",
    "plt.title('График распределения оценок экспертов');\n",
    "plt.xlabel('Оценка');\n",
    "plt.ylabel('Количество');"
   ]
  },
  {
   "cell_type": "code",
   "execution_count": 13,
   "id": "bced89fd",
   "metadata": {
    "id": "bced89fd",
    "outputId": "820479af-06d5-4a2f-d292-05625feef068",
    "scrolled": false
   },
   "outputs": [
    {
     "data": {
      "image/png": "[encoded data removed]",
      "text/plain": [
       "<Figure size 640x480 with 1 Axes>"
      ]
     },
     "metadata": {},
     "output_type": "display_data"
    }
   ],
   "source": [
    "sns.histplot(data=df_crowd, x='score_confirm', bins=4);\n",
    "plt.title('График распределения оценок краудсорсинга');\n",
    "plt.xlabel('Оценка');\n",
    "plt.ylabel('Количество');"
   ]
  },
  {
   "cell_type": "markdown",
   "id": "937f7073",
   "metadata": {
    "id": "937f7073"
   },
   "source": [
    "Эксперты склонны давать описаниям оценки несоответствия. Также с оценками каудсорсинга, оценок несоответствия намного больше, чем положительных."
   ]
  },
  {
   "cell_type": "markdown",
   "id": "483857f1",
   "metadata": {
    "id": "483857f1"
   },
   "source": [
    "<img src=\"https://upload.wikimedia.org/wikipedia/commons/thumb/8/81/Stop_sign.png/240px-Stop_sign.png\" align=left width=35, heigth=35>\n",
    "<div class=\"alert alert-danger\">\n",
    "Помнишь принцип \"явное лучше неявного\"? Давай попробуем немного навести порядок в структуре проекта.\n",
    "    \n",
    "Закончен исследовательский анализ данных, значит закончить его мы должны выводами.\n",
    "    \n",
    "А дальше ты начинаешь делать предобработку, цель которой - получить датафрейм с признаками (парами изображений) и таргетами (оценками). Значит давай для этих операций мы созданим свой раздел.    \n",
    "</div>\n"
   ]
  },
  {
   "cell_type": "markdown",
   "id": "8364ba2b",
   "metadata": {},
   "source": [
    "<img src=\"https://upload.wikimedia.org/wikipedia/commons/thumb/8/81/Stop_sign.png/240px-Stop_sign.png\" align=left width=35, heigth=35>\n",
    "<div class=\"alert alert-danger\">\n",
    "<b>v2</b>    \n",
    "Пожалуйста напиши выводы, мы узнали после знакомства с нашими датафреймами?\n",
    "       \n",
    "</div>"
   ]
  },
  {
   "cell_type": "markdown",
   "id": "586bc82f",
   "metadata": {},
   "source": [
    "После подгрузки и изучения исходных данных, мы обнаружили, что для обучения моделей нам предоставлено 1000 уникальных изображений, большая часть которых представлена изображениями детей, что по условиям задачи необходимо удалить. Это может повлиять на снижении качества обучения наших моделей. Количество уникальных запросов 977, это обозначает, что для многих фотографий запросы просто дублировались рандомно, что тоже снизит качество моделей. Количество оценок от краудсорса намного превышает количество уникальных фотографий и запросов, вероятно, для одних и тех же пар запросов и фотографий были поставлены разные оценки, что может ввести в заблуждение модели, поэтому для генерации таргета от использования краудсосрсинговых оценок принято решение отказаться. Также с помощью графического анализа было установлено, что большинство экспертов и людей из краудсорсинга ставит оценку несоответствия фотографиям, что может сказаться на способности моделей связывать описания и фотографии качественно."
   ]
  },
  {
   "cell_type": "markdown",
   "id": "45185623",
   "metadata": {},
   "source": [
    "<div class=\"alert\" style=\"background-color:#ead7f7;color:#8737bf\">\n",
    "    <font size=\"3\"><b>Комментарий студента</b></font>\n",
    "   \n",
    "Вывод добавлен\n",
    "\n",
    "</div>"
   ]
  },
  {
   "cell_type": "markdown",
   "id": "8ff1806e",
   "metadata": {
    "id": "8ff1806e"
   },
   "source": [
    "### Предобработка данных"
   ]
  },
  {
   "cell_type": "code",
   "execution_count": 14,
   "id": "dfe908c5",
   "metadata": {
    "id": "dfe908c5"
   },
   "outputs": [],
   "source": [
    "df_exp['mean_score'] = (((df_exp['expert_1'] + df_exp['expert_2'] + df_exp['expert_3']) / 3) - 1) / (4 - 1)"
   ]
  },
  {
   "cell_type": "markdown",
   "id": "8131b729",
   "metadata": {
    "id": "8131b729"
   },
   "source": [
    "<img src=\"https://upload.wikimedia.org/wikipedia/commons/thumb/8/81/Stop_sign.png/240px-Stop_sign.png\" align=left width=35, heigth=35>\n",
    "<div class=\"alert alert-danger\">\n",
    "Похоже твой подход содержит ошибку. В колонке mean_score ты хочешь получить оценку, приведенную к шкале 0-1.  Но ты получаешь шкалу 0,25-1, т.к. делашь неправильное линейное преобразование.\n",
    "\n",
    "\n",
    "Вместо деления на 4 используй другую формулу `x_new =  (x - min) / (max - min)`    \n",
    "    \n",
    "</div>"
   ]
  },
  {
   "cell_type": "markdown",
   "id": "ed590bfc",
   "metadata": {},
   "source": [
    "<img src=\"https://emojigraph.org/media/apple/check-mark-button_2705.png\" align=left width=33, heigth=33>\n",
    "<div class=\"alert alert-success\">\n",
    "    <b>v2</b> исправлено 👍 </div>"
   ]
  },
  {
   "cell_type": "code",
   "execution_count": 15,
   "id": "2a990aaa",
   "metadata": {
    "id": "2a990aaa"
   },
   "outputs": [],
   "source": [
    "df_exp = df_exp.drop(['expert_1', 'expert_2', 'expert_3'], axis=1)"
   ]
  },
  {
   "cell_type": "code",
   "execution_count": 16,
   "id": "8ab8e2e7",
   "metadata": {
    "id": "8ab8e2e7",
    "outputId": "1fab25f0-6339-4065-9d53-f301889b5f8a",
    "scrolled": true
   },
   "outputs": [
    {
     "data": {
      "text/html": [
       "<div>\n",
       "<style scoped>\n",
       "    .dataframe tbody tr th:only-of-type {\n",
       "        vertical-align: middle;\n",
       "    }\n",
       "\n",
       "    .dataframe tbody tr th {\n",
       "        vertical-align: top;\n",
       "    }\n",
       "\n",
       "    .dataframe thead th {\n",
       "        text-align: right;\n",
       "    }\n",
       "</style>\n",
       "<table border=\"1\" class=\"dataframe\">\n",
       "  <thead>\n",
       "    <tr style=\"text-align: right;\">\n",
       "      <th></th>\n",
       "      <th>image</th>\n",
       "      <th>query_id</th>\n",
       "      <th>mean_score</th>\n",
       "    </tr>\n",
       "  </thead>\n",
       "  <tbody>\n",
       "    <tr>\n",
       "      <th>0</th>\n",
       "      <td>1056338697_4f7d7ce270.jpg</td>\n",
       "      <td>2549968784_39bfbe44f9.jpg#2</td>\n",
       "      <td>0.000000</td>\n",
       "    </tr>\n",
       "    <tr>\n",
       "      <th>1</th>\n",
       "      <td>1056338697_4f7d7ce270.jpg</td>\n",
       "      <td>2718495608_d8533e3ac5.jpg#2</td>\n",
       "      <td>0.111111</td>\n",
       "    </tr>\n",
       "    <tr>\n",
       "      <th>2</th>\n",
       "      <td>1056338697_4f7d7ce270.jpg</td>\n",
       "      <td>3181701312_70a379ab6e.jpg#2</td>\n",
       "      <td>0.111111</td>\n",
       "    </tr>\n",
       "    <tr>\n",
       "      <th>3</th>\n",
       "      <td>1056338697_4f7d7ce270.jpg</td>\n",
       "      <td>3207358897_bfa61fa3c6.jpg#2</td>\n",
       "      <td>0.222222</td>\n",
       "    </tr>\n",
       "    <tr>\n",
       "      <th>4</th>\n",
       "      <td>1056338697_4f7d7ce270.jpg</td>\n",
       "      <td>3286822339_5535af6b93.jpg#2</td>\n",
       "      <td>0.111111</td>\n",
       "    </tr>\n",
       "    <tr>\n",
       "      <th>5</th>\n",
       "      <td>1056338697_4f7d7ce270.jpg</td>\n",
       "      <td>3360930596_1e75164ce6.jpg#2</td>\n",
       "      <td>0.000000</td>\n",
       "    </tr>\n",
       "    <tr>\n",
       "      <th>6</th>\n",
       "      <td>1056338697_4f7d7ce270.jpg</td>\n",
       "      <td>3545652636_0746537307.jpg#2</td>\n",
       "      <td>0.000000</td>\n",
       "    </tr>\n",
       "    <tr>\n",
       "      <th>7</th>\n",
       "      <td>1056338697_4f7d7ce270.jpg</td>\n",
       "      <td>434792818_56375e203f.jpg#2</td>\n",
       "      <td>0.111111</td>\n",
       "    </tr>\n",
       "    <tr>\n",
       "      <th>8</th>\n",
       "      <td>106490881_5a2dd9b7bd.jpg</td>\n",
       "      <td>1425069308_488e5fcf9d.jpg#2</td>\n",
       "      <td>0.000000</td>\n",
       "    </tr>\n",
       "    <tr>\n",
       "      <th>9</th>\n",
       "      <td>106490881_5a2dd9b7bd.jpg</td>\n",
       "      <td>1714316707_8bbaa2a2ba.jpg#2</td>\n",
       "      <td>0.333333</td>\n",
       "    </tr>\n",
       "  </tbody>\n",
       "</table>\n",
       "</div>"
      ],
      "text/plain": [
       "                       image                     query_id  mean_score\n",
       "0  1056338697_4f7d7ce270.jpg  2549968784_39bfbe44f9.jpg#2    0.000000\n",
       "1  1056338697_4f7d7ce270.jpg  2718495608_d8533e3ac5.jpg#2    0.111111\n",
       "2  1056338697_4f7d7ce270.jpg  3181701312_70a379ab6e.jpg#2    0.111111\n",
       "3  1056338697_4f7d7ce270.jpg  3207358897_bfa61fa3c6.jpg#2    0.222222\n",
       "4  1056338697_4f7d7ce270.jpg  3286822339_5535af6b93.jpg#2    0.111111\n",
       "5  1056338697_4f7d7ce270.jpg  3360930596_1e75164ce6.jpg#2    0.000000\n",
       "6  1056338697_4f7d7ce270.jpg  3545652636_0746537307.jpg#2    0.000000\n",
       "7  1056338697_4f7d7ce270.jpg   434792818_56375e203f.jpg#2    0.111111\n",
       "8   106490881_5a2dd9b7bd.jpg  1425069308_488e5fcf9d.jpg#2    0.000000\n",
       "9   106490881_5a2dd9b7bd.jpg  1714316707_8bbaa2a2ba.jpg#2    0.333333"
      ]
     },
     "execution_count": 16,
     "metadata": {},
     "output_type": "execute_result"
    }
   ],
   "source": [
    "df_exp.head(10)"
   ]
  },
  {
   "cell_type": "code",
   "execution_count": 17,
   "id": "be6d91cd",
   "metadata": {
    "id": "be6d91cd",
    "outputId": "436601ec-ba5a-40d8-fc0b-d4f37e2e6c93",
    "scrolled": true
   },
   "outputs": [
    {
     "data": {
      "image/png": "[encoded data removed]",
      "text/plain": [
       "<Figure size 640x480 with 1 Axes>"
      ]
     },
     "metadata": {},
     "output_type": "display_data"
    }
   ],
   "source": [
    "sns.histplot(data=df_exp, x='mean_score', bins=4);\n",
    "plt.title('График распределения оценок экспертов');\n",
    "plt.xlabel('Оценка');\n",
    "plt.ylabel('Количество');"
   ]
  },
  {
   "cell_type": "code",
   "execution_count": 18,
   "id": "390ebf0a",
   "metadata": {
    "id": "390ebf0a"
   },
   "outputs": [],
   "source": [
    "df_train_merged = pd.merge(df_train, df_exp, how='inner', on=['image', 'query_id'])"
   ]
  },
  {
   "cell_type": "markdown",
   "id": "801ba867",
   "metadata": {
    "id": "801ba867"
   },
   "source": [
    "\n",
    "<img src=\"https://upload.wikimedia.org/wikipedia/commons/b/ba/Warning_sign_4.0.png\" align=left width=44, heigth=33>\n",
    "<div class=\"alert alert-warning\">\n",
    "Опять напоминаю про \"явное лучше неявного\".\n",
    "    \n",
    "Сейчас ты получил итоговый датафрейм используя только экспертны оценки.\n",
    "    \n",
    "Я не против, более того, я считаю это лучшей из возможных стратегий. Но пожалйста, напиши что и зачем ты делаешь, дай обоснование.    \n",
    "    \n",
    "--------------\n",
    "    \n",
    "В этом проекте есть несколько возможных стратегий работы с обучающими и краудсорс оценками,  вот эти стратегии с плюсами и минусами:\n",
    "   \n",
    "    \n",
    " - использовать соединение через outer, в этом случае, при корректной обработке пропусков мы можем получить более 50К размеченых пар. К плюсам данного подхода можно отнести большое количество данных. Минус - в основном это будут данные, размеченные краудсорсерами, а там качество раметки ниже.\n",
    " - использовать только экспертные оценки. плюс - высокое качество данных (разметка имеет шкалу). Минус - данных меньше.  Поясню по поводу качества разметки на примере: если на изображении одна собака, а в описании \"две собаки бегут по берегу\", то эксперты поставять соответствие 0,6-0,7 (переводя в шкалу 0-1), а краудсорсеры поставят 0.  Но на экспертных оценках модель хотя-бы научится находить собак, а на краудсор оценках ничему не начится.\n",
    "    \n",
    " - использование соединения через left.  Данный подход очевидно проигрывает второму варианту: данных столько же, нужно дополнительно возиться с объединением, но качество разметки снижается.. Но это соответсвует предложениям авторов проекта, поэтому такой подход имеет право на жизнь\n",
    "    \n",
    " - объединение через inner. Тут все плохо - и данных ОЧЕНЬ мало (в два раза меньше, чем использовать только экспертные оценки) и качество у них \"подпорчено\". И навыков по обработке пропусков не получаем.....    \n",
    "    \n",
    "</div>"
   ]
  },
  {
   "cell_type": "code",
   "execution_count": 19,
   "id": "b7b34b4d",
   "metadata": {
    "id": "b7b34b4d",
    "outputId": "d737b20f-3fd7-4180-c097-03ec6bf2e95c",
    "scrolled": true
   },
   "outputs": [
    {
     "data": {
      "text/html": [
       "<div>\n",
       "<style scoped>\n",
       "    .dataframe tbody tr th:only-of-type {\n",
       "        vertical-align: middle;\n",
       "    }\n",
       "\n",
       "    .dataframe tbody tr th {\n",
       "        vertical-align: top;\n",
       "    }\n",
       "\n",
       "    .dataframe thead th {\n",
       "        text-align: right;\n",
       "    }\n",
       "</style>\n",
       "<table border=\"1\" class=\"dataframe\">\n",
       "  <thead>\n",
       "    <tr style=\"text-align: right;\">\n",
       "      <th></th>\n",
       "      <th>image</th>\n",
       "      <th>query_id</th>\n",
       "      <th>query_text</th>\n",
       "      <th>mean_score</th>\n",
       "    </tr>\n",
       "  </thead>\n",
       "  <tbody>\n",
       "    <tr>\n",
       "      <th>0</th>\n",
       "      <td>1056338697_4f7d7ce270.jpg</td>\n",
       "      <td>2549968784_39bfbe44f9.jpg#2</td>\n",
       "      <td>A young child is wearing blue goggles and sitt...</td>\n",
       "      <td>0.000000</td>\n",
       "    </tr>\n",
       "    <tr>\n",
       "      <th>1</th>\n",
       "      <td>1262583859_653f1469a9.jpg</td>\n",
       "      <td>2549968784_39bfbe44f9.jpg#2</td>\n",
       "      <td>A young child is wearing blue goggles and sitt...</td>\n",
       "      <td>0.000000</td>\n",
       "    </tr>\n",
       "    <tr>\n",
       "      <th>2</th>\n",
       "      <td>2447284966_d6bbdb4b6e.jpg</td>\n",
       "      <td>2549968784_39bfbe44f9.jpg#2</td>\n",
       "      <td>A young child is wearing blue goggles and sitt...</td>\n",
       "      <td>0.222222</td>\n",
       "    </tr>\n",
       "    <tr>\n",
       "      <th>3</th>\n",
       "      <td>2549968784_39bfbe44f9.jpg</td>\n",
       "      <td>2549968784_39bfbe44f9.jpg#2</td>\n",
       "      <td>A young child is wearing blue goggles and sitt...</td>\n",
       "      <td>1.000000</td>\n",
       "    </tr>\n",
       "    <tr>\n",
       "      <th>4</th>\n",
       "      <td>2621415349_ef1a7e73be.jpg</td>\n",
       "      <td>2549968784_39bfbe44f9.jpg#2</td>\n",
       "      <td>A young child is wearing blue goggles and sitt...</td>\n",
       "      <td>0.000000</td>\n",
       "    </tr>\n",
       "    <tr>\n",
       "      <th>5</th>\n",
       "      <td>3030566410_393c36a6c5.jpg</td>\n",
       "      <td>2549968784_39bfbe44f9.jpg#2</td>\n",
       "      <td>A young child is wearing blue goggles and sitt...</td>\n",
       "      <td>0.444444</td>\n",
       "    </tr>\n",
       "    <tr>\n",
       "      <th>6</th>\n",
       "      <td>3155451946_c0862c70cb.jpg</td>\n",
       "      <td>2549968784_39bfbe44f9.jpg#2</td>\n",
       "      <td>A young child is wearing blue goggles and sitt...</td>\n",
       "      <td>0.000000</td>\n",
       "    </tr>\n",
       "    <tr>\n",
       "      <th>7</th>\n",
       "      <td>3222041930_f642f49d28.jpg</td>\n",
       "      <td>2549968784_39bfbe44f9.jpg#2</td>\n",
       "      <td>A young child is wearing blue goggles and sitt...</td>\n",
       "      <td>0.000000</td>\n",
       "    </tr>\n",
       "    <tr>\n",
       "      <th>8</th>\n",
       "      <td>343218198_1ca90e0734.jpg</td>\n",
       "      <td>2549968784_39bfbe44f9.jpg#2</td>\n",
       "      <td>A young child is wearing blue goggles and sitt...</td>\n",
       "      <td>0.000000</td>\n",
       "    </tr>\n",
       "    <tr>\n",
       "      <th>9</th>\n",
       "      <td>3718964174_cb2dc1615e.jpg</td>\n",
       "      <td>2549968784_39bfbe44f9.jpg#2</td>\n",
       "      <td>A young child is wearing blue goggles and sitt...</td>\n",
       "      <td>0.000000</td>\n",
       "    </tr>\n",
       "  </tbody>\n",
       "</table>\n",
       "</div>"
      ],
      "text/plain": [
       "                       image                     query_id  \\\n",
       "0  1056338697_4f7d7ce270.jpg  2549968784_39bfbe44f9.jpg#2   \n",
       "1  1262583859_653f1469a9.jpg  2549968784_39bfbe44f9.jpg#2   \n",
       "2  2447284966_d6bbdb4b6e.jpg  2549968784_39bfbe44f9.jpg#2   \n",
       "3  2549968784_39bfbe44f9.jpg  2549968784_39bfbe44f9.jpg#2   \n",
       "4  2621415349_ef1a7e73be.jpg  2549968784_39bfbe44f9.jpg#2   \n",
       "5  3030566410_393c36a6c5.jpg  2549968784_39bfbe44f9.jpg#2   \n",
       "6  3155451946_c0862c70cb.jpg  2549968784_39bfbe44f9.jpg#2   \n",
       "7  3222041930_f642f49d28.jpg  2549968784_39bfbe44f9.jpg#2   \n",
       "8   343218198_1ca90e0734.jpg  2549968784_39bfbe44f9.jpg#2   \n",
       "9  3718964174_cb2dc1615e.jpg  2549968784_39bfbe44f9.jpg#2   \n",
       "\n",
       "                                          query_text  mean_score  \n",
       "0  A young child is wearing blue goggles and sitt...    0.000000  \n",
       "1  A young child is wearing blue goggles and sitt...    0.000000  \n",
       "2  A young child is wearing blue goggles and sitt...    0.222222  \n",
       "3  A young child is wearing blue goggles and sitt...    1.000000  \n",
       "4  A young child is wearing blue goggles and sitt...    0.000000  \n",
       "5  A young child is wearing blue goggles and sitt...    0.444444  \n",
       "6  A young child is wearing blue goggles and sitt...    0.000000  \n",
       "7  A young child is wearing blue goggles and sitt...    0.000000  \n",
       "8  A young child is wearing blue goggles and sitt...    0.000000  \n",
       "9  A young child is wearing blue goggles and sitt...    0.000000  "
      ]
     },
     "execution_count": 19,
     "metadata": {},
     "output_type": "execute_result"
    }
   ],
   "source": [
    "df_train_merged.head(10)"
   ]
  },
  {
   "cell_type": "code",
   "execution_count": 20,
   "id": "c634f5fb",
   "metadata": {
    "id": "c634f5fb",
    "outputId": "e003af95-26d2-4e7c-e459-926316aeddd9"
   },
   "outputs": [
    {
     "name": "stdout",
     "output_type": "stream",
     "text": [
      "<class 'pandas.core.frame.DataFrame'>\n",
      "Int64Index: 5822 entries, 0 to 5821\n",
      "Data columns (total 4 columns):\n",
      " #   Column      Non-Null Count  Dtype  \n",
      "---  ------      --------------  -----  \n",
      " 0   image       5822 non-null   object \n",
      " 1   query_id    5822 non-null   object \n",
      " 2   query_text  5822 non-null   object \n",
      " 3   mean_score  5822 non-null   float64\n",
      "dtypes: float64(1), object(3)\n",
      "memory usage: 227.4+ KB\n"
     ]
    }
   ],
   "source": [
    "df_train_merged.info()"
   ]
  },
  {
   "cell_type": "markdown",
   "id": "453d330d",
   "metadata": {
    "id": "453d330d"
   },
   "source": [
    "<img src=\"https://emojigraph.org/media/apple/check-mark-button_2705.png\" align=left width=33, heigth=33>\n",
    "<div class=\"alert alert-success\">\n",
    "ОК, есть итоговый датафрейм (признаки-таргет) с которым мы можем продолжать работу</div>"
   ]
  },
  {
   "cell_type": "markdown",
   "id": "7cbaa861",
   "metadata": {
    "cellId": "9h91oxwx86d7i8rqt5miv4",
    "execution_id": "4401a0e8-fd2b-479b-9e84-6ffafbcead47",
    "id": "7cbaa861"
   },
   "source": [
    "## 2. Проверка данных"
   ]
  },
  {
   "cell_type": "code",
   "execution_count": 21,
   "id": "2ee012fd",
   "metadata": {
    "id": "2ee012fd"
   },
   "outputs": [],
   "source": [
    "#напишем функцию разметки слов для более качественной лемматизации\n",
    "#def get_wordnet_pos(word):\n",
    "#    tag = nltk.pos_tag([word])[0][1][0].upper()\n",
    "#    tag_dict = {\"J\": wordnet.ADJ,\n",
    "#                \"N\": wordnet.NOUN,\n",
    "#                \"V\": wordnet.VERB,\n",
    "#                \"R\": wordnet.ADV}\n",
    "#\n",
    "#    return tag_dict.get(tag, wordnet.NOUN)"
   ]
  },
  {
   "cell_type": "code",
   "execution_count": 22,
   "id": "98d70126",
   "metadata": {
    "id": "98d70126"
   },
   "outputs": [],
   "source": [
    "#напишем функцию лемматизации\n",
    "#def lemmatize(text):\n",
    "#    lemmatizer = WordNetLemmatizer()\n",
    "#    lemm_list = nltk.word_tokenize(text)\n",
    "#    lemm_text = \" \".join([lemmatizer.lemmatize(w, get_wordnet_pos(w)) for w in lemm_list])\n",
    "#\n",
    "#    return lemm_text"
   ]
  },
  {
   "cell_type": "code",
   "execution_count": 23,
   "id": "df59b863",
   "metadata": {
    "id": "df59b863"
   },
   "outputs": [],
   "source": [
    "#напишем функцию очистки текста от лишних символов и перевода в один регистр\n",
    "#def clear_text(text):\n",
    "#    return ' '.join(re.sub(r\"[^a-zA-Z' ]\", ' ', text).split()).lower()"
   ]
  },
  {
   "cell_type": "code",
   "execution_count": 24,
   "id": "6e36bf0c",
   "metadata": {
    "id": "6e36bf0c"
   },
   "outputs": [],
   "source": [
    "#df_train_merged['query_text_lem'] = df_train_merged['query_text'].progress_apply(lemmatize)"
   ]
  },
  {
   "cell_type": "code",
   "execution_count": 25,
   "id": "64700429",
   "metadata": {
    "id": "64700429"
   },
   "outputs": [],
   "source": [
    "#df_train_merged['query_text_lem'] = df_train_merged['query_text_lem'].apply(clear_text)"
   ]
  },
  {
   "cell_type": "markdown",
   "id": "52578337",
   "metadata": {
    "id": "52578337"
   },
   "source": [
    "<div class=\"alert\" style=\"background-color:#ead7f7;color:#8737bf\">\n",
    "    <font size=\"3\"><b>Комментарий студента</b></font>\n",
    "   \n",
    "Убрал из кода лемматизацию и очистку текста, так как реализовал BERT\n",
    "\n",
    "</div>"
   ]
  },
  {
   "cell_type": "markdown",
   "id": "3b33601c",
   "metadata": {},
   "source": [
    "<img src=\"https://emojigraph.org/media/apple/check-mark-button_2705.png\" align=left width=33, heigth=33>\n",
    "<div class=\"alert alert-success\">\n",
    "    <b>v2</b> 👍 </div>"
   ]
  },
  {
   "cell_type": "markdown",
   "id": "e4a3e974",
   "metadata": {
    "id": "e4a3e974"
   },
   "source": [
    "<img src=\"https://emojigraph.org/media/apple/check-mark-button_2705.png\" align=left width=33, heigth=33>\n",
    "<div class=\"alert alert-success\">\n",
    "Идея с лемматизацией хороша. Но она очень \"дорогая\" - хорошая лемматизация занимает время. К тому же лемматизация требует сил на написание и отладку кода. И не дай бог ты \"потащишь\" её и в инференс....\n",
    "    \n",
    "Лемматизация в этом проекте может понадобиться в двух случаях: при чистке запросов от детских изображениях и при векторизации.\n",
    "    \n",
    "В случае чистки я считаю возможным упростить себе жизнь - взять возможные словоформы \"запрещенных\" слов. Как правиль их всего две - единственное и множественное число.\n",
    "    \n",
    "А что касается векторизации,то ты используешь BERT, а эта модель обучалась на сырых, не обработанных текстах (точнее всю предобработку, какую надо, делает токенайзер).  Лемматизация, как и чистка текста от знаков препинания в данном случае противопоказана.    \n",
    "    \n",
    "</div>"
   ]
  },
  {
   "cell_type": "code",
   "execution_count": 26,
   "id": "b352d2cd",
   "metadata": {
    "cellId": "6j23jr8qr9wgyyqkm2puj",
    "id": "b352d2cd"
   },
   "outputs": [],
   "source": [
    "stop_words = ['child', 'children', 'baby', 'toddler', 'teenager', 'boy', 'girl', 'kid', 'lad', 'babies', 'toddlers',\n",
    "             'teenagers', 'boys', 'girls', 'kids']\n",
    "delete_img = []\n",
    "\n",
    "for i in range(len(df_train_merged['query_text'])):\n",
    "    for word in stop_words:\n",
    "        if word in df_train_merged.loc[i, 'query_text'].lower().split() and df_train_merged.loc[i, 'mean_score'] > 0.2:\n",
    "            delete_img.append(df_train_merged.loc[i, 'image'])"
   ]
  },
  {
   "cell_type": "markdown",
   "id": "2c45ec66",
   "metadata": {
    "id": "2c45ec66"
   },
   "source": [
    "Были удалены фотография и описания, содержащие неприемлимый контент, с оценками соответствия более 0.4."
   ]
  },
  {
   "cell_type": "code",
   "execution_count": 27,
   "id": "1c76c94b",
   "metadata": {
    "id": "1c76c94b"
   },
   "outputs": [],
   "source": [
    "df_train_merged = df_train_merged[~df_train_merged['image'].isin(delete_img)]"
   ]
  },
  {
   "cell_type": "code",
   "execution_count": 28,
   "id": "68bee93f",
   "metadata": {
    "id": "68bee93f"
   },
   "outputs": [],
   "source": [
    "df_train_merged = df_train_merged.drop(['query_id'], axis=1).reset_index(drop=True)"
   ]
  },
  {
   "cell_type": "code",
   "execution_count": 29,
   "id": "46ac99f1",
   "metadata": {
    "id": "46ac99f1"
   },
   "outputs": [],
   "source": [
    "#удаление фотографий, код закомментен, так как после первого запуска, фотографии уже удалены\n",
    "#path = './train_images/'\n",
    "#for img in set(delete_img):\n",
    "#    os.remove(path + img)"
   ]
  },
  {
   "cell_type": "code",
   "execution_count": 30,
   "id": "7f80d4f7",
   "metadata": {
    "id": "7f80d4f7",
    "outputId": "d0403b77-a66e-480b-b41e-c8df4332bf9f",
    "scrolled": true
   },
   "outputs": [
    {
     "name": "stdout",
     "output_type": "stream",
     "text": [
      "<class 'pandas.core.frame.DataFrame'>\n",
      "RangeIndex: 3625 entries, 0 to 3624\n",
      "Data columns (total 3 columns):\n",
      " #   Column      Non-Null Count  Dtype  \n",
      "---  ------      --------------  -----  \n",
      " 0   image       3625 non-null   object \n",
      " 1   query_text  3625 non-null   object \n",
      " 2   mean_score  3625 non-null   float64\n",
      "dtypes: float64(1), object(2)\n",
      "memory usage: 85.1+ KB\n"
     ]
    }
   ],
   "source": [
    "df_train_merged.info()"
   ]
  },
  {
   "cell_type": "code",
   "execution_count": 31,
   "id": "ed98def3",
   "metadata": {
    "id": "ed98def3",
    "outputId": "42f534cf-3bb4-40da-d4a9-5c4eb2b8585b"
   },
   "outputs": [
    {
     "data": {
      "text/html": [
       "<div>\n",
       "<style scoped>\n",
       "    .dataframe tbody tr th:only-of-type {\n",
       "        vertical-align: middle;\n",
       "    }\n",
       "\n",
       "    .dataframe tbody tr th {\n",
       "        vertical-align: top;\n",
       "    }\n",
       "\n",
       "    .dataframe thead th {\n",
       "        text-align: right;\n",
       "    }\n",
       "</style>\n",
       "<table border=\"1\" class=\"dataframe\">\n",
       "  <thead>\n",
       "    <tr style=\"text-align: right;\">\n",
       "      <th></th>\n",
       "      <th>image</th>\n",
       "      <th>query_text</th>\n",
       "      <th>mean_score</th>\n",
       "    </tr>\n",
       "  </thead>\n",
       "  <tbody>\n",
       "    <tr>\n",
       "      <th>0</th>\n",
       "      <td>1056338697_4f7d7ce270.jpg</td>\n",
       "      <td>A young child is wearing blue goggles and sitt...</td>\n",
       "      <td>0.000000</td>\n",
       "    </tr>\n",
       "    <tr>\n",
       "      <th>1</th>\n",
       "      <td>3155451946_c0862c70cb.jpg</td>\n",
       "      <td>A young child is wearing blue goggles and sitt...</td>\n",
       "      <td>0.000000</td>\n",
       "    </tr>\n",
       "    <tr>\n",
       "      <th>2</th>\n",
       "      <td>3222041930_f642f49d28.jpg</td>\n",
       "      <td>A young child is wearing blue goggles and sitt...</td>\n",
       "      <td>0.000000</td>\n",
       "    </tr>\n",
       "    <tr>\n",
       "      <th>3</th>\n",
       "      <td>486712504_36be449055.jpg</td>\n",
       "      <td>A young child is wearing blue goggles and sitt...</td>\n",
       "      <td>0.000000</td>\n",
       "    </tr>\n",
       "    <tr>\n",
       "      <th>4</th>\n",
       "      <td>1056338697_4f7d7ce270.jpg</td>\n",
       "      <td>A girl wearing a yellow shirt and sunglasses s...</td>\n",
       "      <td>0.111111</td>\n",
       "    </tr>\n",
       "    <tr>\n",
       "      <th>5</th>\n",
       "      <td>2616643090_4f2d2d1a44.jpg</td>\n",
       "      <td>A girl wearing a yellow shirt and sunglasses s...</td>\n",
       "      <td>0.000000</td>\n",
       "    </tr>\n",
       "    <tr>\n",
       "      <th>6</th>\n",
       "      <td>2648165716_02e2e74fd6.jpg</td>\n",
       "      <td>A girl wearing a yellow shirt and sunglasses s...</td>\n",
       "      <td>0.000000</td>\n",
       "    </tr>\n",
       "    <tr>\n",
       "      <th>7</th>\n",
       "      <td>1056338697_4f7d7ce270.jpg</td>\n",
       "      <td>A man sleeps under a blanket on a city street .</td>\n",
       "      <td>0.111111</td>\n",
       "    </tr>\n",
       "    <tr>\n",
       "      <th>8</th>\n",
       "      <td>463978865_c87c6ca84c.jpg</td>\n",
       "      <td>A man sleeps under a blanket on a city street .</td>\n",
       "      <td>0.333333</td>\n",
       "    </tr>\n",
       "    <tr>\n",
       "      <th>9</th>\n",
       "      <td>488590040_35a3e96c89.jpg</td>\n",
       "      <td>A man sleeps under a blanket on a city street .</td>\n",
       "      <td>0.222222</td>\n",
       "    </tr>\n",
       "  </tbody>\n",
       "</table>\n",
       "</div>"
      ],
      "text/plain": [
       "                       image  \\\n",
       "0  1056338697_4f7d7ce270.jpg   \n",
       "1  3155451946_c0862c70cb.jpg   \n",
       "2  3222041930_f642f49d28.jpg   \n",
       "3   486712504_36be449055.jpg   \n",
       "4  1056338697_4f7d7ce270.jpg   \n",
       "5  2616643090_4f2d2d1a44.jpg   \n",
       "6  2648165716_02e2e74fd6.jpg   \n",
       "7  1056338697_4f7d7ce270.jpg   \n",
       "8   463978865_c87c6ca84c.jpg   \n",
       "9   488590040_35a3e96c89.jpg   \n",
       "\n",
       "                                          query_text  mean_score  \n",
       "0  A young child is wearing blue goggles and sitt...    0.000000  \n",
       "1  A young child is wearing blue goggles and sitt...    0.000000  \n",
       "2  A young child is wearing blue goggles and sitt...    0.000000  \n",
       "3  A young child is wearing blue goggles and sitt...    0.000000  \n",
       "4  A girl wearing a yellow shirt and sunglasses s...    0.111111  \n",
       "5  A girl wearing a yellow shirt and sunglasses s...    0.000000  \n",
       "6  A girl wearing a yellow shirt and sunglasses s...    0.000000  \n",
       "7    A man sleeps under a blanket on a city street .    0.111111  \n",
       "8    A man sleeps under a blanket on a city street .    0.333333  \n",
       "9    A man sleeps under a blanket on a city street .    0.222222  "
      ]
     },
     "execution_count": 31,
     "metadata": {},
     "output_type": "execute_result"
    }
   ],
   "source": [
    "df_train_merged.head(10)"
   ]
  },
  {
   "cell_type": "markdown",
   "id": "376fc869",
   "metadata": {
    "id": "376fc869"
   },
   "source": [
    "<img src=\"https://emojigraph.org/media/apple/check-mark-button_2705.png\" align=left width=33, heigth=33>\n",
    "<div class=\"alert alert-success\">\n",
    " 👍 Молодец, что не просто удалил все тексты, где есть \"детская тематика\", но и учел что оценка соответствия пары текст-изображение должно подтверждаться оценкой.\n",
    "    \n",
    "На всякий случай подсвечу, что есть еще один способ поиска \"детских\" изображений. Он основан на том, что `query_id` содержит в с себе имя изображения, для которого он был написан (такая пасхалочка от авторов датасета).\n",
    "    \n",
    " - Определить список плохих комментариев\n",
    " - У `query_id`  плохих комментариев отрезать два последних символа и получим список плохих изображений.\n",
    "        \n"
   ]
  },
  {
   "cell_type": "markdown",
   "id": "1d4ef807",
   "metadata": {
    "cellId": "ggxcvhmhcm9rshysbjoo4n",
    "execution_id": "d7935f99-48c0-42b8-a227-dd2b2d9b70fc",
    "id": "1d4ef807"
   },
   "source": [
    "## 3. Векторизация изображений"
   ]
  },
  {
   "cell_type": "code",
   "execution_count": 32,
   "id": "0167b804",
   "metadata": {
    "cellId": "4wiflhqkew9mq1gq5927e",
    "id": "0167b804",
    "outputId": "b98bfe3f-ef58-4c1c-959c-9992cfb25a19",
    "scrolled": true
   },
   "outputs": [
    {
     "name": "stdout",
     "output_type": "stream",
     "text": [
      "device: cuda\n",
      "Изображений в папке: 648\n"
     ]
    },
    {
     "data": {
      "text/html": [
       "<div>\n",
       "<style scoped>\n",
       "    .dataframe tbody tr th:only-of-type {\n",
       "        vertical-align: middle;\n",
       "    }\n",
       "\n",
       "    .dataframe tbody tr th {\n",
       "        vertical-align: top;\n",
       "    }\n",
       "\n",
       "    .dataframe thead th {\n",
       "        text-align: right;\n",
       "    }\n",
       "</style>\n",
       "<table border=\"1\" class=\"dataframe\">\n",
       "  <thead>\n",
       "    <tr style=\"text-align: right;\">\n",
       "      <th></th>\n",
       "      <th>0</th>\n",
       "      <th>1</th>\n",
       "      <th>2</th>\n",
       "      <th>3</th>\n",
       "      <th>4</th>\n",
       "      <th>5</th>\n",
       "      <th>6</th>\n",
       "      <th>7</th>\n",
       "      <th>8</th>\n",
       "      <th>9</th>\n",
       "      <th>...</th>\n",
       "      <th>502</th>\n",
       "      <th>503</th>\n",
       "      <th>504</th>\n",
       "      <th>505</th>\n",
       "      <th>506</th>\n",
       "      <th>507</th>\n",
       "      <th>508</th>\n",
       "      <th>509</th>\n",
       "      <th>510</th>\n",
       "      <th>511</th>\n",
       "    </tr>\n",
       "  </thead>\n",
       "  <tbody>\n",
       "    <tr>\n",
       "      <th>0</th>\n",
       "      <td>0.693983</td>\n",
       "      <td>3.031819</td>\n",
       "      <td>2.916987</td>\n",
       "      <td>0.951920</td>\n",
       "      <td>0.936226</td>\n",
       "      <td>1.245220</td>\n",
       "      <td>0.826550</td>\n",
       "      <td>1.108059</td>\n",
       "      <td>0.169696</td>\n",
       "      <td>0.365279</td>\n",
       "      <td>...</td>\n",
       "      <td>0.444238</td>\n",
       "      <td>0.717753</td>\n",
       "      <td>0.294677</td>\n",
       "      <td>0.728790</td>\n",
       "      <td>1.153809</td>\n",
       "      <td>0.750845</td>\n",
       "      <td>1.196695</td>\n",
       "      <td>0.085011</td>\n",
       "      <td>1.056859</td>\n",
       "      <td>0.098236</td>\n",
       "    </tr>\n",
       "    <tr>\n",
       "      <th>1</th>\n",
       "      <td>0.476787</td>\n",
       "      <td>0.516117</td>\n",
       "      <td>1.505917</td>\n",
       "      <td>0.879465</td>\n",
       "      <td>0.001574</td>\n",
       "      <td>0.585608</td>\n",
       "      <td>0.055786</td>\n",
       "      <td>0.104646</td>\n",
       "      <td>0.206305</td>\n",
       "      <td>1.083964</td>\n",
       "      <td>...</td>\n",
       "      <td>0.627553</td>\n",
       "      <td>1.203490</td>\n",
       "      <td>2.934107</td>\n",
       "      <td>0.498592</td>\n",
       "      <td>1.248345</td>\n",
       "      <td>1.117930</td>\n",
       "      <td>1.121786</td>\n",
       "      <td>2.810126</td>\n",
       "      <td>1.892204</td>\n",
       "      <td>1.877237</td>\n",
       "    </tr>\n",
       "    <tr>\n",
       "      <th>2</th>\n",
       "      <td>1.859864</td>\n",
       "      <td>2.073176</td>\n",
       "      <td>1.116257</td>\n",
       "      <td>1.751575</td>\n",
       "      <td>0.208846</td>\n",
       "      <td>1.309824</td>\n",
       "      <td>0.316693</td>\n",
       "      <td>0.456553</td>\n",
       "      <td>2.370869</td>\n",
       "      <td>0.082151</td>\n",
       "      <td>...</td>\n",
       "      <td>0.407417</td>\n",
       "      <td>1.213631</td>\n",
       "      <td>1.492942</td>\n",
       "      <td>0.690386</td>\n",
       "      <td>1.285157</td>\n",
       "      <td>0.822073</td>\n",
       "      <td>2.123312</td>\n",
       "      <td>1.957901</td>\n",
       "      <td>1.500283</td>\n",
       "      <td>0.300742</td>\n",
       "    </tr>\n",
       "    <tr>\n",
       "      <th>3</th>\n",
       "      <td>1.810253</td>\n",
       "      <td>2.253124</td>\n",
       "      <td>0.628388</td>\n",
       "      <td>1.860260</td>\n",
       "      <td>0.654312</td>\n",
       "      <td>0.030167</td>\n",
       "      <td>1.013323</td>\n",
       "      <td>1.381325</td>\n",
       "      <td>1.189101</td>\n",
       "      <td>4.414523</td>\n",
       "      <td>...</td>\n",
       "      <td>0.260167</td>\n",
       "      <td>0.514834</td>\n",
       "      <td>0.756088</td>\n",
       "      <td>0.509969</td>\n",
       "      <td>1.216290</td>\n",
       "      <td>0.606870</td>\n",
       "      <td>0.671893</td>\n",
       "      <td>0.518883</td>\n",
       "      <td>1.576427</td>\n",
       "      <td>0.530411</td>\n",
       "    </tr>\n",
       "    <tr>\n",
       "      <th>4</th>\n",
       "      <td>0.693983</td>\n",
       "      <td>3.031819</td>\n",
       "      <td>2.916987</td>\n",
       "      <td>0.951920</td>\n",
       "      <td>0.936226</td>\n",
       "      <td>1.245220</td>\n",
       "      <td>0.826550</td>\n",
       "      <td>1.108059</td>\n",
       "      <td>0.169696</td>\n",
       "      <td>0.365279</td>\n",
       "      <td>...</td>\n",
       "      <td>0.444238</td>\n",
       "      <td>0.717753</td>\n",
       "      <td>0.294677</td>\n",
       "      <td>0.728790</td>\n",
       "      <td>1.153809</td>\n",
       "      <td>0.750845</td>\n",
       "      <td>1.196695</td>\n",
       "      <td>0.085011</td>\n",
       "      <td>1.056859</td>\n",
       "      <td>0.098236</td>\n",
       "    </tr>\n",
       "  </tbody>\n",
       "</table>\n",
       "<p>5 rows × 512 columns</p>\n",
       "</div>"
      ],
      "text/plain": [
       "        0         1         2         3         4         5         6    \\\n",
       "0  0.693983  3.031819  2.916987  0.951920  0.936226  1.245220  0.826550   \n",
       "1  0.476787  0.516117  1.505917  0.879465  0.001574  0.585608  0.055786   \n",
       "2  1.859864  2.073176  1.116257  1.751575  0.208846  1.309824  0.316693   \n",
       "3  1.810253  2.253124  0.628388  1.860260  0.654312  0.030167  1.013323   \n",
       "4  0.693983  3.031819  2.916987  0.951920  0.936226  1.245220  0.826550   \n",
       "\n",
       "        7         8         9    ...       502       503       504       505  \\\n",
       "0  1.108059  0.169696  0.365279  ...  0.444238  0.717753  0.294677  0.728790   \n",
       "1  0.104646  0.206305  1.083964  ...  0.627553  1.203490  2.934107  0.498592   \n",
       "2  0.456553  2.370869  0.082151  ...  0.407417  1.213631  1.492942  0.690386   \n",
       "3  1.381325  1.189101  4.414523  ...  0.260167  0.514834  0.756088  0.509969   \n",
       "4  1.108059  0.169696  0.365279  ...  0.444238  0.717753  0.294677  0.728790   \n",
       "\n",
       "        506       507       508       509       510       511  \n",
       "0  1.153809  0.750845  1.196695  0.085011  1.056859  0.098236  \n",
       "1  1.248345  1.117930  1.121786  2.810126  1.892204  1.877237  \n",
       "2  1.285157  0.822073  2.123312  1.957901  1.500283  0.300742  \n",
       "3  1.216290  0.606870  0.671893  0.518883  1.576427  0.530411  \n",
       "4  1.153809  0.750845  1.196695  0.085011  1.056859  0.098236  \n",
       "\n",
       "[5 rows x 512 columns]"
      ]
     },
     "execution_count": 32,
     "metadata": {},
     "output_type": "execute_result"
    }
   ],
   "source": [
    "device = torch.device(\"cuda\" if torch.cuda.is_available() else \"cpu\")\n",
    "print('device:', device)\n",
    "path = './'\n",
    "\n",
    "transform = transforms.Compose([\n",
    "    transforms.Resize(256),\n",
    "    transforms.CenterCrop(224),\n",
    "    transforms.ToTensor(),\n",
    "    transforms.Normalize(mean=[0.485, 0.456, 0.406], std=[0.229, 0.224, 0.225])  # Нормализация данных\n",
    "])\n",
    "\n",
    "# Загрузка предварительно обученной ResNet-18\n",
    "resnet = models.resnet18(weights=ResNet18_Weights.DEFAULT).to(device)\n",
    "# заморозка слоев\n",
    "for param in resnet.parameters():\n",
    "    param.requires_grad_(False)\n",
    "# убираем все слои, кроме двух последних\n",
    "resnet = nn.Sequential(*list(resnet.children())[:-1])\n",
    "# перевод модели в режим предсказания\n",
    "resnet.eval()\n",
    "\n",
    "images_paths = list(df_train_merged['image'])\n",
    "print('Изображений в папке:',len(set(images_paths)))\n",
    "\n",
    "# Создание пустого массива для хранения векторов\n",
    "processed_features = []\n",
    "# Цикл для обработки каждого batch изображений\n",
    "for image_path in images_paths:\n",
    "    image_path = path + 'train_images/' + image_path\n",
    "    image = Image.open(image_path).convert('RGB')\n",
    "    image_tensor = transform(image).unsqueeze(0).to(device)\n",
    "    with torch.no_grad():\n",
    "        features = resnet(image_tensor).flatten().cpu().numpy()\n",
    "\n",
    "    processed_features.append(features)  # Добавление векторов признаков в массив\n",
    "\n",
    "processed_features = pd.DataFrame(processed_features)\n",
    "processed_features.head()"
   ]
  },
  {
   "cell_type": "code",
   "execution_count": 33,
   "id": "0a2b13b0",
   "metadata": {
    "id": "0a2b13b0",
    "outputId": "eec57b38-e32f-4caf-dca5-3eef5b81c973"
   },
   "outputs": [
    {
     "data": {
      "text/plain": [
       "(3625, 512)"
      ]
     },
     "execution_count": 33,
     "metadata": {},
     "output_type": "execute_result"
    }
   ],
   "source": [
    "processed_features.shape"
   ]
  },
  {
   "cell_type": "markdown",
   "id": "682222bb",
   "metadata": {
    "id": "682222bb"
   },
   "source": [
    "<img src=\"https://emojigraph.org/media/apple/check-mark-button_2705.png\" align=left width=33, heigth=33>\n",
    "<div class=\"alert alert-success\">\n",
    "Здесь все ОК, векторизация изображений произведена верно </div>"
   ]
  },
  {
   "cell_type": "markdown",
   "id": "4cfed6bc",
   "metadata": {
    "id": "4cfed6bc"
   },
   "source": [
    "Векторизация изображений была произведена с помощью  ResNet-18."
   ]
  },
  {
   "cell_type": "markdown",
   "id": "aea53bf6",
   "metadata": {
    "cellId": "z8evfugfch8wpstvnxv0t",
    "execution_id": "028ade1d-49fe-4110-8b13-3c1aecdaa142",
    "id": "aea53bf6"
   },
   "source": [
    "## 4. Векторизация текстов"
   ]
  },
  {
   "cell_type": "code",
   "execution_count": 34,
   "id": "7d45c373",
   "metadata": {
    "colab": {
     "referenced_widgets": [
      "63f57569e0934832ab52bf6b94af911d"
     ]
    },
    "id": "7d45c373",
    "outputId": "2f7b2743-6636-44e9-ae5a-bf88008db484",
    "scrolled": true
   },
   "outputs": [
    {
     "name": "stderr",
     "output_type": "stream",
     "text": [
      "C:\\Users\\kkkul\\anaconda3\\lib\\site-packages\\transformers\\utils\\generic.py:260: UserWarning: torch.utils._pytree._register_pytree_node is deprecated. Please use torch.utils._pytree.register_pytree_node instead.\n",
      "  torch.utils._pytree._register_pytree_node(\n"
     ]
    },
    {
     "data": {
      "application/vnd.jupyter.widget-view+json": {
       "model_id": "47616ad6588c4d79a361c23d18ce23b4",
       "version_major": 2,
       "version_minor": 0
      },
      "text/plain": [
       "  0%|          | 0/3625 [00:00<?, ?it/s]"
      ]
     },
     "metadata": {},
     "output_type": "display_data"
    },
    {
     "ename": "AttributeError",
     "evalue": "'BaseModelOutputWithPoolingAndCrossAttentions' object has no attribute 'to'",
     "output_type": "error",
     "traceback": [
      "\u001b[1;31m---------------------------------------------------------------------------\u001b[0m",
      "\u001b[1;31mAttributeError\u001b[0m                            Traceback (most recent call last)",
      "\u001b[1;32m~\\AppData\\Local\\Temp\\ipykernel_8740\\2770117370.py\u001b[0m in \u001b[0;36m<module>\u001b[1;34m\u001b[0m\n\u001b[0;32m     21\u001b[0m         \u001b[0mattention_mask_batch\u001b[0m \u001b[1;33m=\u001b[0m \u001b[0mtorch\u001b[0m\u001b[1;33m.\u001b[0m\u001b[0mLongTensor\u001b[0m\u001b[1;33m(\u001b[0m\u001b[0mattention_mask\u001b[0m\u001b[1;33m[\u001b[0m\u001b[0mbatch_size\u001b[0m\u001b[1;33m*\u001b[0m\u001b[0mi\u001b[0m\u001b[1;33m:\u001b[0m\u001b[0mbatch_size\u001b[0m\u001b[1;33m*\u001b[0m\u001b[1;33m(\u001b[0m\u001b[0mi\u001b[0m\u001b[1;33m+\u001b[0m\u001b[1;36m1\u001b[0m\u001b[1;33m)\u001b[0m\u001b[1;33m]\u001b[0m\u001b[1;33m)\u001b[0m\u001b[1;33m\u001b[0m\u001b[1;33m\u001b[0m\u001b[0m\n\u001b[0;32m     22\u001b[0m \u001b[1;33m\u001b[0m\u001b[0m\n\u001b[1;32m---> 23\u001b[1;33m         \u001b[0mbatch_embeddings\u001b[0m \u001b[1;33m=\u001b[0m \u001b[0mmodel\u001b[0m\u001b[1;33m(\u001b[0m\u001b[0mbatch\u001b[0m\u001b[1;33m,\u001b[0m \u001b[0mattention_mask\u001b[0m\u001b[1;33m=\u001b[0m\u001b[0mattention_mask_batch\u001b[0m\u001b[1;33m)\u001b[0m\u001b[1;33m.\u001b[0m\u001b[0mto\u001b[0m\u001b[1;33m(\u001b[0m\u001b[0mdevice\u001b[0m\u001b[1;33m)\u001b[0m\u001b[1;33m\u001b[0m\u001b[1;33m\u001b[0m\u001b[0m\n\u001b[0m\u001b[0;32m     24\u001b[0m \u001b[1;33m\u001b[0m\u001b[0m\n\u001b[0;32m     25\u001b[0m         \u001b[0membeddings\u001b[0m\u001b[1;33m.\u001b[0m\u001b[0mappend\u001b[0m\u001b[1;33m(\u001b[0m\u001b[0mbatch_embeddings\u001b[0m\u001b[1;33m[\u001b[0m\u001b[1;36m0\u001b[0m\u001b[1;33m]\u001b[0m\u001b[1;33m[\u001b[0m\u001b[1;33m:\u001b[0m\u001b[1;33m,\u001b[0m\u001b[1;36m0\u001b[0m\u001b[1;33m,\u001b[0m\u001b[1;33m:\u001b[0m\u001b[1;33m]\u001b[0m\u001b[1;33m.\u001b[0m\u001b[0mdetach\u001b[0m\u001b[1;33m(\u001b[0m\u001b[1;33m)\u001b[0m\u001b[1;33m.\u001b[0m\u001b[0mnumpy\u001b[0m\u001b[1;33m(\u001b[0m\u001b[1;33m)\u001b[0m\u001b[1;33m)\u001b[0m\u001b[1;33m\u001b[0m\u001b[1;33m\u001b[0m\u001b[0m\n",
      "\u001b[1;31mAttributeError\u001b[0m: 'BaseModelOutputWithPoolingAndCrossAttentions' object has no attribute 'to'"
     ]
    }
   ],
   "source": [
    "tokenizer = BertTokenizer.from_pretrained('bert-base-cased')\n",
    "\n",
    "tokenized = df_train_merged['query_text'].apply(\n",
    "    lambda x: tokenizer.encode(x, add_special_tokens=True))\n",
    "\n",
    "max_len = 0\n",
    "for i in tokenized.values:\n",
    "    if len(i) > max_len:\n",
    "        max_len = len(i)\n",
    "\n",
    "padded = np.array([i + [0]*(max_len - len(i)) for i in tokenized.values])\n",
    "\n",
    "attention_mask = np.where(padded != 0, 1, 0)\n",
    "\n",
    "model = transformers.BertModel.from_pretrained('bert-base-uncased')\n",
    "\n",
    "batch_size = 1\n",
    "embeddings = []\n",
    "for i in notebook.tqdm(range(padded.shape[0] // batch_size)):\n",
    "        batch = torch.LongTensor(padded[batch_size*i:batch_size*(i+1)])\n",
    "        attention_mask_batch = torch.LongTensor(attention_mask[batch_size*i:batch_size*(i+1)])\n",
    "\n",
    "        batch_embeddings = model(batch, attention_mask=attention_mask_batch)\n",
    "\n",
    "        embeddings.append(batch_embeddings[0][:,0,:].detach().numpy())\n",
    "\n",
    "features = np.concatenate(embeddings)"
   ]
  },
  {
   "cell_type": "code",
   "execution_count": null,
   "id": "b81a8b3f",
   "metadata": {
    "id": "b81a8b3f"
   },
   "outputs": [],
   "source": [
    "def embed(text):\n",
    "    tokenized = text.apply(\n",
    "    lambda x: tokenizer.encode(x, add_special_tokens=True))\n",
    "    padded = np.array([i + [0]*(max_len - len(i)) for i in tokenized.values])\n",
    "    attention_mask = np.where(padded != 0, 1, 0)\n",
    "    batch_size = 1\n",
    "    embeddings = []\n",
    "    for i in notebook.tqdm(range(padded.shape[0] // batch_size)):\n",
    "        batch = torch.LongTensor(padded[batch_size*i:batch_size*(i+1)])\n",
    "        attention_mask_batch = torch.LongTensor(attention_mask[batch_size*i:batch_size*(i+1)])\n",
    "\n",
    "        with torch.no_grad():\n",
    "            batch_embeddings = model(batch, attention_mask=attention_mask_batch)\n",
    "\n",
    "        embeddings.append(batch_embeddings[0][:,0,:].numpy())\n",
    "    return np.concatenate(embeddings)"
   ]
  },
  {
   "cell_type": "code",
   "execution_count": null,
   "id": "3597041e",
   "metadata": {
    "id": "3597041e",
    "outputId": "93f74a2d-170e-4274-d5c3-61dce7f32b40"
   },
   "outputs": [],
   "source": [
    "features.shape"
   ]
  },
  {
   "cell_type": "code",
   "execution_count": null,
   "id": "cd7584bd",
   "metadata": {
    "cellId": "5f0eae9yldcozrwh01qp0c",
    "id": "cd7584bd"
   },
   "outputs": [],
   "source": [
    "#stopwords = list(set(nltk_stopwords.words('english')))\n",
    "#count_tf_idf = TfidfVectorizer(stop_words=stopwords)\n",
    "#tf_idf = count_tf_idf.fit_transform(df_train_merged['query_text_lem']).toarray()"
   ]
  },
  {
   "cell_type": "code",
   "execution_count": null,
   "id": "462bd69e",
   "metadata": {
    "id": "462bd69e"
   },
   "outputs": [],
   "source": [
    "#tf_idf.shape"
   ]
  },
  {
   "cell_type": "markdown",
   "id": "752da4db",
   "metadata": {},
   "source": [
    "<img src=\"https://upload.wikimedia.org/wikipedia/commons/b/ba/Warning_sign_4.0.png\" align=left width=44, heigth=33>\n",
    "<div class=\"alert alert-warning\">\n",
    "<b>v2</b>  \n",
    "Вижу что  ты используешь BERT, молодец. Но для \"полного счастья\" стоит перенести вычисление эмбедингов на cuda. Без этого они считаются относительно долго.... При перезапуске пришлось ждать 10 минут.\n",
    "</div>"
   ]
  },
  {
   "cell_type": "markdown",
   "id": "00ce52ae",
   "metadata": {
    "id": "00ce52ae"
   },
   "source": [
    "<img src=\"https://emojigraph.org/media/apple/check-mark-button_2705.png\" align=left width=33, heigth=33>\n",
    "<div class=\"alert alert-success\">\n",
    " 👍 Вектора для текста получены с помощью TF-IDF. Здесь конечно есть очень тонкий момент, и в другом проекте это мог бы быть красный комментарий. Ты же помнишь, что векторайзеры мы обучаем на обучающем датасете и применяем к валидационому и тестовому. А сейчас ты сделал вектора с использованием всех частей датасета.  Но для этого проекта это должно быть допустимо, т.к. .утечка,повышающая оценку на валидации врядли что-то сильно  испортит.\n",
    "\n",
    "-----------\n",
    "    \n",
    "Что касается выбранного подхода. По моим наблюдения используя TfidfVectorizer крайне редко получается обучить толковую модель.  Я бы советовал все-таки использовать \"плотные\" вектора полученные с помощью BERT    \n",
    "\n",
    "</div>"
   ]
  },
  {
   "cell_type": "markdown",
   "id": "951c99db",
   "metadata": {
    "id": "951c99db"
   },
   "source": [
    "Векторизация текстов выполнена с помощью BERT"
   ]
  },
  {
   "cell_type": "markdown",
   "id": "760c0ccd",
   "metadata": {
    "cellId": "yci1zcmnsacl720fr75sb",
    "execution_id": "5ecfa9d5-3913-4fb3-a33e-99bab3798577",
    "id": "760c0ccd"
   },
   "source": [
    "## 5. Объединение векторов\n",
    "\n",
    "Подготовьте данные для обучения: объедините векторы изображений и векторы текстов с целевой переменной."
   ]
  },
  {
   "cell_type": "code",
   "execution_count": null,
   "id": "b747671f",
   "metadata": {
    "cellId": "n64cmotqegij9arvbc7sxf",
    "id": "b747671f",
    "outputId": "2eab31b9-4193-4b76-8543-72dcd33e7a3b"
   },
   "outputs": [],
   "source": [
    "final_vector = np.concatenate((features, processed_features), axis=1)\n",
    "final_vector.shape"
   ]
  },
  {
   "cell_type": "markdown",
   "id": "ef86eb7c",
   "metadata": {
    "id": "ef86eb7c"
   },
   "source": [
    "<img src=\"https://emojigraph.org/media/apple/check-mark-button_2705.png\" align=left width=33, heigth=33>\n",
    "<div class=\"alert alert-success\">\n",
    " 👍 </div>"
   ]
  },
  {
   "cell_type": "code",
   "execution_count": null,
   "id": "d385abe3",
   "metadata": {
    "id": "d385abe3",
    "outputId": "851d1414-bba0-4de2-c37a-011c1f069236",
    "scrolled": true
   },
   "outputs": [],
   "source": [
    "df = pd.concat([pd.DataFrame(final_vector), df_train_merged], axis=1).drop('query_text', axis=1).reset_index(drop=True)\n",
    "df.head(10)"
   ]
  },
  {
   "cell_type": "markdown",
   "id": "c1f35564",
   "metadata": {
    "id": "c1f35564"
   },
   "source": [
    "<img src=\"https://emojigraph.org/media/apple/check-mark-button_2705.png\" align=left width=33, heigth=33>\n",
    "<div class=\"alert alert-success\">\n",
    "Я замечал, что в тренажере в задания признаки часто преобразуются в DataFrame. Но я очень советую этого избегать на таких \"огромных\" признаках, которые хранятся в матрицах нумпай.. Поясню почему- DataFrame требуют больше памяти в отличие от numpy массивов. И доступ к ячейкам осущетсвляется дольше.  И все равно перед обучением все данные будут приведены к нумпай матрицам.</div>"
   ]
  },
  {
   "cell_type": "markdown",
   "id": "6bb2a272",
   "metadata": {
    "id": "6bb2a272"
   },
   "source": [
    "Для обучения модели векторы текстов и изображений были объединены в один"
   ]
  },
  {
   "cell_type": "markdown",
   "id": "60bc5668",
   "metadata": {
    "cellId": "97c9jj3s2zjj62vznivsk",
    "execution_id": "1a2d7233-0c79-479a-be63-5787145e3b48",
    "id": "60bc5668"
   },
   "source": [
    "## 6. Обучение модели предсказания соответствия"
   ]
  },
  {
   "cell_type": "markdown",
   "id": "7eb3e3cf",
   "metadata": {
    "id": "7eb3e3cf"
   },
   "source": [
    "### Разделение на обучающую и тестовую выборки"
   ]
  },
  {
   "cell_type": "code",
   "execution_count": null,
   "id": "a723a8ad",
   "metadata": {
    "cellId": "v1ntb27jt4z9fazi1y8me",
    "id": "a723a8ad"
   },
   "outputs": [],
   "source": [
    "gss = GroupShuffleSplit(n_splits=1, train_size=.8, random_state=2023)\n",
    "train_indices, valid_indices = next(gss.split(X=df.drop(columns=['mean_score']), y=df['mean_score'], groups=df['image']))\n",
    "train_df, valid_df = df.loc[train_indices], df.loc[valid_indices]"
   ]
  },
  {
   "cell_type": "markdown",
   "id": "02b6be63",
   "metadata": {
    "id": "02b6be63"
   },
   "source": [
    "<img src=\"https://emojigraph.org/media/apple/check-mark-button_2705.png\" align=left width=33, heigth=33>\n",
    "<div class=\"alert alert-success\">\n",
    "Отлично, благодаря использованию GroupShuffleSplit ты исключаешь попадание одного изображения в обучающий и валидационный наборы.</div>"
   ]
  },
  {
   "cell_type": "code",
   "execution_count": null,
   "id": "fec646a4",
   "metadata": {
    "id": "fec646a4",
    "outputId": "bc0e58cf-29d7-41bb-e15c-3fa4c8c309fb"
   },
   "outputs": [],
   "source": [
    "X_train = train_df.drop(['mean_score', 'image'], axis=1)\n",
    "y_train = train_df['mean_score']\n",
    "X_train.shape"
   ]
  },
  {
   "cell_type": "code",
   "execution_count": null,
   "id": "2f0bd681",
   "metadata": {
    "id": "2f0bd681",
    "outputId": "86859332-c5fb-4957-de6c-cfaf766fa1ae"
   },
   "outputs": [],
   "source": [
    "X_train.head()"
   ]
  },
  {
   "cell_type": "code",
   "execution_count": null,
   "id": "45816db7",
   "metadata": {
    "id": "45816db7",
    "outputId": "f3d1ded5-2690-4565-fd2d-3f2f47e4ee3f"
   },
   "outputs": [],
   "source": [
    "X_valid = valid_df.drop(['mean_score', 'image'], axis=1)\n",
    "y_valid = valid_df['mean_score']\n",
    "X_valid.shape"
   ]
  },
  {
   "cell_type": "code",
   "execution_count": null,
   "id": "f65b5157",
   "metadata": {
    "id": "f65b5157"
   },
   "outputs": [],
   "source": [
    "scaler = RobustScaler()\n",
    "X_train = scaler.fit_transform(X_train)\n",
    "X_valid = scaler.transform(X_valid)"
   ]
  },
  {
   "cell_type": "markdown",
   "id": "25659477",
   "metadata": {
    "id": "25659477"
   },
   "source": [
    "<img src=\"https://upload.wikimedia.org/wikipedia/commons/thumb/8/81/Stop_sign.png/240px-Stop_sign.png\" align=left width=35, heigth=35>\n",
    "<div class=\"alert alert-danger\">\n",
    "Стоит вернуть скаллер. Причина простая линейные модели и нейронные сети гораздо лучше и стабильнее учатся на признаках имеющих один масштаб.</div>"
   ]
  },
  {
   "cell_type": "markdown",
   "id": "009d7973",
   "metadata": {},
   "source": [
    "<img src=\"https://emojigraph.org/media/apple/check-mark-button_2705.png\" align=left width=33, heigth=33>\n",
    "<div class=\"alert alert-success\">\n",
    "    <b>v2</b> 👍 </div>"
   ]
  },
  {
   "cell_type": "markdown",
   "id": "e5719ab5",
   "metadata": {
    "id": "e5719ab5"
   },
   "source": [
    "Выборки были разделены в соотношении 80/20 с помощью метода GroupShuffleSplit"
   ]
  },
  {
   "cell_type": "markdown",
   "id": "4f42558a",
   "metadata": {
    "id": "4f42558a"
   },
   "source": [
    "<img src=\"https://upload.wikimedia.org/wikipedia/commons/b/ba/Warning_sign_4.0.png\" align=left width=44, heigth=33>\n",
    "<div class=\"alert alert-warning\">\n",
    "Мы решаем новую задачу и не знаем, наксколько хороши наши метрики и наши модели. Поэтому советую начать с бейзлайна - константной модели (можешь взять простой DummyRegressor).</div>"
   ]
  },
  {
   "cell_type": "markdown",
   "id": "73908943",
   "metadata": {
    "id": "73908943"
   },
   "source": [
    "<img src=\"https://upload.wikimedia.org/wikipedia/commons/thumb/8/81/Stop_sign.png/240px-Stop_sign.png\" align=left width=35, heigth=35>\n",
    "<div class=\"alert alert-danger\">\n",
    "В этом задании требуется выбрать основную метрику, которую ты будешь оптимизировать. Пожаулуйста выбери метрику и обоснуй свой выбор.  </div>"
   ]
  },
  {
   "cell_type": "markdown",
   "id": "a3e51de4",
   "metadata": {},
   "source": [
    "<img src=\"https://emojigraph.org/media/apple/check-mark-button_2705.png\" align=left width=33, heigth=33>\n",
    "<div class=\"alert alert-success\">\n",
    "    <b>v2</b> 👍 </div>"
   ]
  },
  {
   "cell_type": "markdown",
   "id": "1e4528c1",
   "metadata": {
    "id": "1e4528c1"
   },
   "source": [
    "Так как нашей целью является постановка оценок от 0 до 1, следовательно задача, которую должна решить модель - регрессия, поэтому в качестве метрики обучения была выбрана RMSE"
   ]
  },
  {
   "cell_type": "markdown",
   "id": "3a5993cc",
   "metadata": {
    "id": "3a5993cc"
   },
   "source": [
    "### Обучение линейной регрессии"
   ]
  },
  {
   "cell_type": "code",
   "execution_count": null,
   "id": "cbf4a9da",
   "metadata": {
    "id": "cbf4a9da",
    "outputId": "3ad0206c-c9a1-426e-efee-9712ec7f377a"
   },
   "outputs": [],
   "source": [
    "lr = LinearRegression()\n",
    "lr.fit(X_train, y_train)"
   ]
  },
  {
   "cell_type": "code",
   "execution_count": null,
   "id": "c0a7da49",
   "metadata": {
    "id": "c0a7da49",
    "outputId": "8163920a-c1d9-452c-d79b-7b794efe3935"
   },
   "outputs": [],
   "source": [
    "y_pred = lr.predict(X_valid)\n",
    "mean_squared_error(y_valid, y_pred)**0.5"
   ]
  },
  {
   "cell_type": "markdown",
   "id": "805a2f7b",
   "metadata": {
    "id": "805a2f7b"
   },
   "source": [
    "Модель линейной регрессии выдает совершенно неадекватные результаты."
   ]
  },
  {
   "cell_type": "markdown",
   "id": "b6313e7a",
   "metadata": {
    "id": "b6313e7a"
   },
   "source": [
    "<img src=\"https://upload.wikimedia.org/wikipedia/commons/b/ba/Warning_sign_4.0.png\" align=left width=44, heigth=33>\n",
    "<div class=\"alert alert-warning\">\n",
    "Попробуй объяснить в чем причина такого неадекватного поведения модели. И соответственно предложить \"лекарство\"</div>"
   ]
  },
  {
   "cell_type": "markdown",
   "id": "56080b09",
   "metadata": {
    "id": "56080b09"
   },
   "source": [
    "<div class=\"alert\" style=\"background-color:#ead7f7;color:#8737bf\">\n",
    "    <font size=\"3\"><b>Комментарий студента</b></font>\n",
    "   \n",
    "Возможно, результаты были неадекватными из-за разного масштаба признаков.\n",
    "\n",
    "</div>"
   ]
  },
  {
   "cell_type": "markdown",
   "id": "e110b833",
   "metadata": {},
   "source": [
    "<img src=\"https://emojigraph.org/media/apple/check-mark-button_2705.png\" align=left width=33, heigth=33>\n",
    "<div class=\"alert alert-success\">\n",
    "  <b>v2</b> Как правило проблемы с переобучением линейной регрессии возникают из за мультколлинеарности. В результате модель пытается отыскать взаимосвязи между близкими призаками и начинает неадекватно увеличивать коэффициенты. Спасает от этого добавление регуляризациии (использование линейрой регрессии с регуляризацией).\n",
    "\n",
    "\n",
    "В  твоем случае \"спасло\" то, что ты ушел от TF-IDF в сторону BERT,  видимо в них меньше скоррелирвоанности (что логично).\n",
    "</div>"
   ]
  },
  {
   "cell_type": "markdown",
   "id": "2a8ddb32",
   "metadata": {
    "id": "2a8ddb32"
   },
   "source": [
    "### Обучение модели CatBoost"
   ]
  },
  {
   "cell_type": "code",
   "execution_count": null,
   "id": "34a9c480",
   "metadata": {
    "id": "34a9c480",
    "outputId": "ad7da9ba-800e-46a4-94ba-37ed44d876a0"
   },
   "outputs": [],
   "source": [
    "%%time\n",
    "cb = CatBoostRegressor(random_state=2023, logging_level='Silent', loss_function='RMSE', task_type='GPU')\n",
    "\n",
    "cb_params = {\n",
    "    'n_estimators': [2000],\n",
    "    'depth': [8],\n",
    "    'grow_policy': ['Depthwise']\n",
    "}\n",
    "#произведем подбор гиперпараметров\n",
    "cb_search = GridSearchCV(cb, cb_params, scoring='neg_root_mean_squared_error', cv=3)\n",
    "\n",
    "cb_search.fit(X_train, y_train)\n",
    "print('RMSE on train', cb_search.best_score_ * -1)\n",
    "print('Best parameters', cb_search.best_params_)"
   ]
  },
  {
   "cell_type": "code",
   "execution_count": null,
   "id": "7a1b33e3",
   "metadata": {
    "id": "7a1b33e3",
    "outputId": "c14dd3d6-a8e7-48b6-efcd-37f13275d2c3"
   },
   "outputs": [],
   "source": [
    "y_pred = cb_search.predict(X_valid)\n",
    "mean_squared_error(y_valid, y_pred)**0.5"
   ]
  },
  {
   "cell_type": "markdown",
   "id": "9ee6a999",
   "metadata": {
    "id": "9ee6a999"
   },
   "source": [
    "Метрика RMSE на тестовой выборке составила 0.1756, что является неплохим результатом. После подбора гиперпараметров были оставлены лучшие, для сокращения времени запуска кода."
   ]
  },
  {
   "cell_type": "markdown",
   "id": "a8f044ed",
   "metadata": {
    "id": "a8f044ed"
   },
   "source": [
    "<div class=\"alert\" style=\"background-color:#ead7f7;color:#8737bf\">\n",
    "    <font size=\"3\"><b>Комментарий студента</b></font>\n",
    "   \n",
    "После нормализации таргета по-правильному, метрика ухудшилась.\n",
    "\n",
    "</div>"
   ]
  },
  {
   "cell_type": "markdown",
   "id": "7b247e92",
   "metadata": {},
   "source": [
    "<img src=\"https://upload.wikimedia.org/wikipedia/commons/b/ba/Warning_sign_4.0.png\" align=left width=44, heigth=33>\n",
    "<div class=\"alert alert-warning\">\n",
    "<b>v2</b> Нормализация вообщне никак не влияет на модели, основанные на деревьях (это распространенный вопрос с собеседований).\n",
    "\n",
    "Есть более очевидная причина изменения метрики - ты отказался от TF-IDF и использовал вектора признаков, полученые с помощью BERT\n",
    "</div>"
   ]
  },
  {
   "cell_type": "markdown",
   "id": "66e4e497",
   "metadata": {
    "id": "66e4e497"
   },
   "source": [
    "<img src=\"https://emojigraph.org/media/apple/check-mark-button_2705.png\" align=left width=33, heigth=33>\n",
    "<div class=\"alert alert-success\">\n",
    " 👍 </div>"
   ]
  },
  {
   "cell_type": "markdown",
   "id": "d6b548f2",
   "metadata": {
    "id": "d6b548f2"
   },
   "source": [
    "### Обучение полносвязной нейронной сети"
   ]
  },
  {
   "cell_type": "code",
   "execution_count": null,
   "id": "9e5c2233",
   "metadata": {
    "id": "9e5c2233"
   },
   "outputs": [],
   "source": [
    "X_train_net = torch.tensor(X_train, dtype=torch.float, device=torch.device('cuda'))\n",
    "X_valid_net = torch.tensor(X_valid, dtype=torch.float, device=torch.device('cuda'))\n",
    "y_train_net = torch.tensor(y_train.values, dtype=torch.float, device=torch.device('cuda'))\n",
    "y_valid_net = torch.tensor(y_valid.values, dtype=torch.float, device=torch.device('cuda'))"
   ]
  },
  {
   "cell_type": "code",
   "execution_count": null,
   "id": "f883cf32",
   "metadata": {
    "id": "f883cf32"
   },
   "outputs": [],
   "source": [
    " class Net_2(nn.Module):\n",
    "    def __init__(self, drop, n_in_neurons, n_hidden_neurons_1, n_hidden_neurons_2, n_hidden_neurons_3, n_out_neurons):\n",
    "        super(Net_2, self).__init__()\n",
    "\n",
    "        self.layer1 = nn.Linear(n_in_neurons, n_hidden_neurons_1)\n",
    "        self.drop = nn.Dropout(drop)\n",
    "\n",
    "        self.layer2 = nn.Linear(n_hidden_neurons_1, n_hidden_neurons_2)\n",
    "\n",
    "        self.layer3 = nn.Linear(n_hidden_neurons_2, n_hidden_neurons_3)\n",
    "\n",
    "        self.layer4 = nn.Linear(n_hidden_neurons_3, n_out_neurons)\n",
    "\n",
    "        nn.init.kaiming_normal_(self.layer1.weight, mode='fan_in', nonlinearity='relu')\n",
    "        nn.init.normal_(self.layer1.bias, mean=0.5, std=0.7)\n",
    "\n",
    "        nn.init.kaiming_normal_(self.layer2.weight, mode='fan_in', nonlinearity='relu')\n",
    "        nn.init.normal_(self.layer2.bias, mean=0.5, std=0.7)\n",
    "\n",
    "        nn.init.kaiming_normal_(self.layer3.weight, mode='fan_in', nonlinearity='relu')\n",
    "        nn.init.normal_(self.layer3.bias, mean=0.5, std=0.7)\n",
    "\n",
    "        nn.init.kaiming_normal_(self.layer4.weight, mode='fan_in', nonlinearity='relu')\n",
    "        nn.init.normal_(self.layer4.bias, mean=0.5, std=0.7)\n",
    "\n",
    "    def forward(self, X):\n",
    "        X = torch.relu(self.layer1(X))\n",
    "        X = self.drop(X)\n",
    "        X = torch.relu(self.layer2(X))\n",
    "        X = torch.relu(self.layer3(X))\n",
    "        X = self.layer4(X)\n",
    "        return X"
   ]
  },
  {
   "cell_type": "code",
   "execution_count": null,
   "id": "6890f2f4",
   "metadata": {
    "id": "6890f2f4",
    "outputId": "9f47c037-013a-4e72-fb38-0b1b602b366c",
    "scrolled": true
   },
   "outputs": [],
   "source": [
    "%%time\n",
    "loss = nn.MSELoss()\n",
    "num_epochs = 2000\n",
    "best_result = 10000\n",
    "dropout = [0.4]\n",
    "batch_sizes = [20]\n",
    "n_in_neurons = 1280\n",
    "n_out_neurons = 1\n",
    "n_hidden_neurons_1_list = [256]\n",
    "n_hidden_neurons_2_list = [16]\n",
    "n_hidden_neurons_3_list = [16]\n",
    "\n",
    "for n_hidden_neurons_1 in n_hidden_neurons_1_list:\n",
    "    for n_hidden_neurons_2 in n_hidden_neurons_2_list:\n",
    "        for n_hidden_neurons_3 in n_hidden_neurons_3_list:\n",
    "            for drop in dropout:\n",
    "                net_opt = Net_2(drop,\n",
    "                                n_in_neurons,\n",
    "                                n_hidden_neurons_1,\n",
    "                                n_hidden_neurons_2,\n",
    "                                n_hidden_neurons_3,\n",
    "                                n_out_neurons).to(device)\n",
    "\n",
    "                optimizer_2 = torch.optim.Adam(net_opt.parameters(), lr=1e-3)\n",
    "                for batch_size in batch_sizes:\n",
    "                    num_batches = ceil(len(X_train_net)/batch_size)\n",
    "                    for epoch in range(num_epochs):\n",
    "\n",
    "                        order = np.random.permutation(len(X_train_net))\n",
    "\n",
    "                        for batch_idx in range(num_batches):\n",
    "\n",
    "                            start_index = batch_idx * batch_size\n",
    "\n",
    "                            optimizer_2.zero_grad()\n",
    "\n",
    "                            batch_indexes = order[start_index:start_index+batch_size]\n",
    "\n",
    "                            X_batch = X_train_net[batch_indexes]\n",
    "                            y_batch = y_train_net[batch_indexes]\n",
    "\n",
    "                            preds = net_opt.forward(X_batch).to(device).flatten()\n",
    "\n",
    "                            loss_value = loss(preds, y_batch)\n",
    "                            loss_value.backward()\n",
    "\n",
    "                            optimizer_2.step()\n",
    "\n",
    "                        if epoch % 100 == 0 or epoch == num_epochs - 1:\n",
    "                            net_opt.eval()\n",
    "                            test_preds = net_opt.forward(X_valid_net).to(device)\n",
    "\n",
    "                            rmse = (torch.sqrt((test_preds[:, 0] - y_valid_net)**2).float().mean())\n",
    "                            print(rmse)\n",
    "                            if rmse < best_result:\n",
    "                                best_result = rmse\n",
    "                                best_size = batch_size\n",
    "                                best_drop = drop\n",
    "                                best_n_hidden_neurons_1 = n_hidden_neurons_1\n",
    "                                best_n_hidden_neurons_2 = n_hidden_neurons_2\n",
    "                                best_n_hidden_neurons_3 = n_hidden_neurons_3\n",
    "\n",
    "print(best_result, best_size, best_drop)\n",
    "print(best_n_hidden_neurons_1, best_n_hidden_neurons_2, best_n_hidden_neurons_3)"
   ]
  },
  {
   "cell_type": "code",
   "execution_count": null,
   "id": "c8ddb7ab",
   "metadata": {
    "id": "c8ddb7ab"
   },
   "outputs": [],
   "source": []
  },
  {
   "cell_type": "markdown",
   "id": "c7a40779",
   "metadata": {
    "id": "c7a40779"
   },
   "source": [
    "<img src=\"https://emojigraph.org/media/apple/check-mark-button_2705.png\" align=left width=33, heigth=33>\n",
    "<div class=\"alert alert-success\">\n",
    "В целом ОК, вижу что неронка показала неплохой результат. Молодец, думаю удалось выжать из нейронки \"максимум\"</div>"
   ]
  },
  {
   "cell_type": "markdown",
   "id": "e3ce6196",
   "metadata": {
    "id": "e3ce6196"
   },
   "source": [
    "Модель полносвязной нейронной сети с 3-мя скрытыми слоями показала наилучший результат RMSE 0.1363. После подбора параметров и архетиктуры сети были оставлены оптимальные."
   ]
  },
  {
   "cell_type": "markdown",
   "id": "2f870d77",
   "metadata": {
    "cellId": "tbnfwg686jpxjdsw7cqbl",
    "execution_id": "5e14c3be-a481-438e-a979-0f4621acea44",
    "id": "2f870d77"
   },
   "source": [
    "## 7. Тестирование модели"
   ]
  },
  {
   "cell_type": "markdown",
   "id": "b39f6ae8",
   "metadata": {
    "id": "b39f6ae8"
   },
   "source": [
    "### Загрузка тестовых запросов и ознакомление с данными"
   ]
  },
  {
   "cell_type": "code",
   "execution_count": null,
   "id": "801e0c32",
   "metadata": {
    "cellId": "q6sn9kh039f4a6xvu66y7",
    "id": "801e0c32",
    "outputId": "190890b8-8561-4383-e48a-faf72b53142c"
   },
   "outputs": [],
   "source": [
    "test_df = pd.read_csv('test_queries.csv', sep='|')\n",
    "test_df.head(10)"
   ]
  },
  {
   "cell_type": "code",
   "execution_count": null,
   "id": "f6e5f399",
   "metadata": {
    "id": "f6e5f399",
    "outputId": "95d17c5d-ae75-4847-c590-50995e9276b3",
    "scrolled": true
   },
   "outputs": [],
   "source": [
    "#для тестирования модели оставим только необходимый столбец с запросами\n",
    "test_df = test_df.drop(['Unnamed: 0', 'query_id', 'image'], axis=1)\n",
    "test_df.head()"
   ]
  },
  {
   "cell_type": "code",
   "execution_count": null,
   "id": "f07e7e93",
   "metadata": {
    "id": "f07e7e93",
    "outputId": "55421c21-0810-4546-871a-2f9dcd29e58d",
    "scrolled": true
   },
   "outputs": [],
   "source": [
    "test_df.info()"
   ]
  },
  {
   "cell_type": "markdown",
   "id": "783415d6",
   "metadata": {
    "id": "783415d6"
   },
   "source": [
    "### Векторизация тестовых изображений"
   ]
  },
  {
   "cell_type": "code",
   "execution_count": null,
   "id": "cc0d6299",
   "metadata": {
    "id": "cc0d6299",
    "outputId": "213d675a-28cb-4c65-c5ad-042c9054ad61",
    "scrolled": true
   },
   "outputs": [],
   "source": [
    "transform = transforms.Compose([\n",
    "    transforms.Resize(256),\n",
    "    transforms.CenterCrop(224),\n",
    "    transforms.ToTensor(),\n",
    "    transforms.Normalize(mean=[0.485, 0.456, 0.406], std=[0.229, 0.224, 0.225])  # Нормализация данных\n",
    "])\n",
    "\n",
    "# Загрузка предварительно обученной ResNet-18\n",
    "resnet = models.resnet18(weights=ResNet18_Weights.DEFAULT).to(device)\n",
    "# заморозка слоев\n",
    "for param in resnet.parameters():\n",
    "    param.requires_grad_(False)\n",
    "# убираем все слои, кроме двух последних\n",
    "resnet = nn.Sequential(*list(resnet.children())[:-1])\n",
    "# перевод модели в режим предсказания\n",
    "resnet.eval()\n",
    "\n",
    "images_paths = os.listdir(path + 'test_images/')\n",
    "print('Изображений в папке:',len(images_paths))\n",
    "\n",
    "# Создание пустого массива для хранения векторов\n",
    "test_features = []\n",
    "# Цикл для обработки каждого batch изображений\n",
    "for image_path in images_paths:\n",
    "    image_path = path + 'test_images/' + image_path\n",
    "    image = Image.open(image_path).convert('RGB')\n",
    "    image_tensor = transform(image).unsqueeze(0).to(device)\n",
    "    with torch.no_grad():\n",
    "        features = resnet(image_tensor).flatten().cpu().numpy()\n",
    "\n",
    "    test_features.append(features)  # Добавление векторов признаков в массив\n",
    "\n",
    "test_features = pd.DataFrame(test_features)\n",
    "print(test_features.shape)\n",
    "test_features.head()"
   ]
  },
  {
   "cell_type": "markdown",
   "id": "23d53035",
   "metadata": {
    "id": "23d53035"
   },
   "source": [
    "<img src=\"https://emojigraph.org/media/apple/check-mark-button_2705.png\" align=left width=33, heigth=33>\n",
    "<div class=\"alert alert-success\">\n",
    "Да, все верно. Тестовые изображения лучше векторизовать заранее</div>"
   ]
  },
  {
   "cell_type": "markdown",
   "id": "cea33854",
   "metadata": {
    "id": "cea33854"
   },
   "source": [
    "<img src=\"https://upload.wikimedia.org/wikipedia/commons/b/ba/Warning_sign_4.0.png\" align=left width=44, heigth=33>\n",
    "<div class=\"alert alert-warning\">\n",
    "    \n",
    "    \n",
    "Постарайся избегать дублирования кода. Похожий кусок кода уже был когда ты векторизовал обучающие изображения.Вместо того, чтобы заниматься дублированияем создай функцию и используй её.</div>"
   ]
  },
  {
   "cell_type": "code",
   "execution_count": null,
   "id": "9e2fbb32",
   "metadata": {
    "id": "9e2fbb32",
    "outputId": "ff388d5d-89bb-444d-ad29-58ea3d115037"
   },
   "outputs": [],
   "source": [
    "test_df.loc[5]"
   ]
  },
  {
   "cell_type": "markdown",
   "id": "0d6ac569",
   "metadata": {
    "id": "0d6ac569"
   },
   "source": [
    "### Написание функции для тестирования"
   ]
  },
  {
   "cell_type": "code",
   "execution_count": null,
   "id": "d95b5d65",
   "metadata": {
    "id": "d95b5d65"
   },
   "outputs": [],
   "source": [
    "def test(queries):\n",
    "    for i in range(10):\n",
    "        best_result = 0\n",
    "        best_match_idx = None\n",
    "        query = queries.loc[random.randint(0, 499)]\n",
    "        bert_test = embed(query)\n",
    "        for word in stop_words:\n",
    "            if word in query[0].lower().split():\n",
    "                print('This image is unavailable in your country in compliance with local laws.')\n",
    "        for j in range(test_features.shape[0]):\n",
    "            test_vector = np.concatenate((bert_test.flatten(), test_features.loc[j]))\n",
    "            test_tensor = torch.tensor(test_vector, dtype=torch.float, device=torch.device('cuda'))\n",
    "            net_opt.eval()\n",
    "            test_preds = net_opt.forward(test_tensor).to(device).detach().cpu().numpy()[0]\n",
    "\n",
    "            if test_preds > best_result:\n",
    "                best_result = test_preds\n",
    "                best_match_idx = j\n",
    "\n",
    "\n",
    "        print('Текст запроса:', query[0])\n",
    "        print('Оценка поставленная моделью:', best_result)\n",
    "        plt.imshow(plt.imread('test_images/' + images_paths[best_match_idx]))\n",
    "        plt.show()"
   ]
  },
  {
   "cell_type": "markdown",
   "id": "2d3c1991",
   "metadata": {
    "id": "2d3c1991"
   },
   "source": [
    "### Тестирование"
   ]
  },
  {
   "cell_type": "code",
   "execution_count": null,
   "id": "2aae6320",
   "metadata": {
    "colab": {
     "referenced_widgets": [
      "9971308136a44b398b08cb7332f2cf97",
      "ce9faf306c2846ee955987523c0e88e1",
      "3500b16b48044e02b7fa2adcb8c4319a",
      "658fd3c0ca5d4f31865e0cd2c5b282eb",
      "e6ebb1ec50474ffda21dc4259126a806",
      "09b28a180dd24d1f9a0cba6ea70d1a1a",
      "8200470c6786486596fe1beec83f5361",
      "50552d30aa4e4e28ae0d41e683c5071c",
      "e3c35deba6794bb582ab873a313bf4d9",
      "136be82ca72e4c80b91ca5dfdc6cff96"
     ]
    },
    "id": "2aae6320",
    "outputId": "e02cbe73-43a3-4067-a852-709f9e788964",
    "scrolled": false
   },
   "outputs": [],
   "source": [
    "test(test_df)"
   ]
  },
  {
   "cell_type": "markdown",
   "id": "0d798938",
   "metadata": {
    "id": "0d798938"
   },
   "source": [
    "<img src=\"https://emojigraph.org/media/apple/check-mark-button_2705.png\" align=left width=33, heigth=33>\n",
    "<div class=\"alert alert-success\">\n",
    "Функции написаны и со своей задачей справляются. Принимают на вход текст и находят изображение. Отрабатывают контроль \"запрещенного контента\".\n",
    "\n",
    "Да, ты прав, к сожалению работают они не очень. Особенно это странно,  учитывая как упорно ты учил нейронку. Думаю основная причина в векторизации текстов, вектора полученные с помощью tf-idf более низкого качества, как правило лучший резульат получается при использовании эмбеддингов, полученных с помощью BERT\n",
    "    \n",
    "----------------\n",
    "    \n",
    "Как правило хороший результат в этом проекте удается достичь при выполнении следующих условий\n",
    "    \n",
    " - использование экспертных оценок   \n",
    " - векторизация изображений через pytorch, как есть в теории к спринту\n",
    " - эмбеддинги через bert\n",
    " - упорное обучение нейронки (иногда тысячи эпох, в любом случае пока лосс снижается) с тщательным подбором гиперпараметров.   \n",
    "    \n",
    "</div>"
   ]
  },
  {
   "cell_type": "markdown",
   "id": "15515a6a",
   "metadata": {
    "id": "15515a6a"
   },
   "source": [
    "<img src=\"http://s3.amazonaws.com/pix.iemoji.com/images/emoji/apple/ios-12/256/waving-hand.png\" align=left width=44, heigth=44>\n",
    "<div class=\"alert alert-info\">\n",
    "<b> Идеи и альтернативные подходы</b>\n",
    "  Если хочешь получить хорошо работающее решение без обучения, то можешь провести эксперимент с нейронной сетью CLIP от OPEN AI (это не обязательно, только если хочешь добиться хороших результатов в этом проекте).\n",
    "\n",
    "  Про эту нейронку много где написано, но можешь посмотреть например вот здесь  https://habr.com/ru/post/539312/.\n",
    "\n",
    "  А для написания  реализации наиболее удобной лично для меня оказалась библиотека sbert. https://www.sbert.net/examples/applications/image-search/README.html  \n",
    "    \n",
    "    \n",
    "<hr>    \n",
    "    \n",
    "Также неплохо работает следующий подход без предобученных моделей (к тому же легко реализуемый).\n",
    "    \n",
    "    \n",
    "Вместо того, чтобы подавать на вход модели изображение + текст и получать меру соответствия, поступаем по другому.\n",
    "    \n",
    "На вход модели подаем вектор описания, а на выходе учимся предсказывать вектор изображения.\n",
    "    \n",
    "По поводу метрик тут ситуация следующая. Точно работает следующий подход\n",
    "    \n",
    "  - берем метрику mse, но тогда нужно чтобы модель её уменьшала. А значит в обучении используем только пары заведомо сответствующие друг другу\n",
    "\n",
    "Можно попробовать использовать косинусное расстояние, она позволяет использовать все данные (если есть соответствие то выдает 1, если нет то 0).\n",
    "    \n",
    "Также можно попробовать усложнить модель, например и изображения и тексты отправлять в пространство размерностью 256 и уже в этом пространстве учиться их \"сближать\".\n",
    "    \n",
    "По поводу методов векторизации: я бы использовать resnet18 для изображений (размерность эмбеддинга избражения 512) и БЕРТ для текстов (768).\n",
    "    \n",
    "***\n",
    "    \n",
    "А еще я видел удачный проект, где для векторизации изображений использовалось предсказание Resnet в котором не отключался последний слой. Получился вектор предсказаний верояятности что изображение принадлежит к каждому из 1000 классов Imagenet. И в сочетании с подходом \"мешок слов\" для текстов это может дать неплохой результа. Такая модель находит людей, собак, машины, снег и т.д.  \n",
    "   \n",
    "</div>"
   ]
  },
  {
   "cell_type": "markdown",
   "id": "f0896132",
   "metadata": {
    "id": "f0896132"
   },
   "source": [
    "Перед нами была поставлена задача разработки модели, которая по текстовому запросу выдаст наиболее релевантную фотографию. Для этого в обучающем датасете тесты запросов были лемматизированы, очищены от лишних символов и приведены к одному регистру, а затем были векторизированы с помощью TF-IDF. Для каждого запроса фотографии были векторизированы, а затем конкатенированы с векторами запросов. Целевая переменная была сгенерирована с помощью нормализованных средних оценок от 3-х экспертов. Для обучения были выбраты три модели. Модель LinearRegression показала наихудший результат, с неадекватными прогнозами. Модель CatBoost показала довольно неплохой результат с метрикой RMSE 0.1756. Но лучшей моделью стала полносвязная нейронная сеть с 3-мя скрытыми слоями с RMSE 0.1363. При тестировании модель выдает необходимые результаты. Но у меня не получилось при выдаче дисклеймера не показывать данную фотографию. Также отмечено, что большинству запросов модель ставит наибольшую оценку примерно одним и тем же фотографиям."
   ]
  },
  {
   "cell_type": "markdown",
   "id": "fab1345a",
   "metadata": {
    "cellId": "dnvdkzzxdpet1yc4m64cx",
    "execution_id": "3e367f6a-97e3-4ed7-9b73-39ed363fd2b7",
    "id": "fab1345a"
   },
   "source": [
    "## 8. Выводы\n",
    "\n",
    "- Jupyter Notebook открыт\n",
    "- Весь код выполняется без ошибок\n",
    "- Ячейки с кодом расположены в порядке исполнения\n",
    "- Исследовательский анализ данных выполнен\n",
    "- Проверены экспертные оценки и краудсорсинговые оценки\n",
    "- Из датасета исключены те объекты, которые выходят за рамки юридических ограничений\n",
    "- Изображения векторизованы\n",
    "- Текстовые запросы векторизованы\n",
    "- Данные корректно разбиты на тренировочную и тестовую выборки\n",
    "- Предложена метрика качества работы модели\n",
    "- Предложена модель схожести изображений и текстового запроса\n",
    "- Модель обучена\n",
    "- По итогам обучения модели сделаны выводы\n",
    "- Проведено тестирование работы модели\n",
    "- По итогам тестирования визуально сравнили качество поиска"
   ]
  },
  {
   "cell_type": "markdown",
   "id": "9e22591b",
   "metadata": {
    "id": "9e22591b"
   },
   "source": [
    "<img src=\"http://s3.amazonaws.com/pix.iemoji.com/images/emoji/apple/ios-12/256/waving-hand.png\" align=left width=44, heigth=44>\n",
    "<div class=\"alert alert-info\">\n",
    "<b> Заключительный комментарий</b>\n",
    "\n",
    "Подведем итоги. Я вижу, что в целом с проектом ты справляешься.\n",
    "    \n",
    "Проведено исследование и предобработка данных. Выполнена векторизация изображений и текстовых описаний. Обучены модели для предсказания степени соответствия, а также написана функция для инференса и с её помощью проведено тестирование.\n",
    "\n",
    "    \n",
    "Что нужно доделать обязательно:\n",
    "    \n",
    " - пожалуйста выдели предобработку датасета в отдельный раздел\n",
    " - для масштабирования признаков нужно использовать другое линейное преобразовние\n",
    " - пожалуйста выполни масштабирование признаков\n",
    " - пожалуйста выбери метрику и обоснуй свой выбор\n",
    "    \n",
    "Желтые комментарии на твое усмотрение. Но учитывая что наш подход \"не взлетел\" и нужно хоть что-то показать заказчику, попробуй показать возможный инференс с помщью CLIP. С библиотекой sentence-transformers это делается буквально в 10 строк.    \n",
    "Жду твою работу на повторное ревью.\n",
    "</div>"
   ]
  },
  {
   "cell_type": "markdown",
   "id": "2ae91bd1",
   "metadata": {},
   "source": [
    "<img src=\"http://s3.amazonaws.com/pix.iemoji.com/images/emoji/apple/ios-12/256/waving-hand.png\" align=left width=44, heigth=44>\n",
    "<div class=\"alert alert-info\">\n",
    "<b> Заключительный комментарий v2</b>\n",
    "И снова привет.\n",
    "    \n",
    "Вижу что ты доработал проект по моим комментариям. Остался всего один момент - пожалуйста добавь выводы после проведения EDA (знакомства с датасетом)    \n",
    "    \n",
    "</div>"
   ]
  },
  {
   "cell_type": "code",
   "execution_count": null,
   "id": "d02fb1e2",
   "metadata": {
    "id": "d02fb1e2"
   },
   "outputs": [],
   "source": []
  },
  {
   "cell_type": "code",
   "execution_count": null,
   "id": "ecd6a07a",
   "metadata": {
    "id": "ecd6a07a"
   },
   "outputs": [],
   "source": []
  }
 ],
 "metadata": {
  "celltoolbar": "Отсутствует",
  "colab": {
   "provenance": []
  },
  "kernelspec": {
   "display_name": "Python 3 (ipykernel)",
   "language": "python",
   "name": "python3"
  },
  "language_info": {
   "codemirror_mode": {
    "name": "ipython",
    "version": 3
   },
   "file_extension": ".py",
   "mimetype": "text/x-python",
   "name": "python",
   "nbconvert_exporter": "python",
   "pygments_lexer": "ipython3",
   "version": "3.9.18"
  },
  "notebookId": "e47b60f7-b2b4-44ee-beb3-b44a93eaf068",
  "notebookPath": "precode.ipynb",
  "toc": {
   "base_numbering": 1,
   "nav_menu": {},
   "number_sections": true,
   "sideBar": true,
   "skip_h1_title": true,
   "title_cell": "Table of Contents",
   "title_sidebar": "Contents",
   "toc_cell": false,
   "toc_position": {},
   "toc_section_display": true,
   "toc_window_display": false
  },
  "varInspector": {
   "cols": {
    "lenName": 16,
    "lenType": 16,
    "lenVar": 40
   },
   "kernels_config": {
    "python": {
     "delete_cmd_postfix": "",
     "delete_cmd_prefix": "del ",
     "library": "var_list.py",
     "varRefreshCmd": "print(var_dic_list())"
    },
    "r": {
     "delete_cmd_postfix": ") ",
     "delete_cmd_prefix": "rm(",
     "library": "var_list.r",
     "varRefreshCmd": "cat(var_dic_list()) "
    }
   },
   "types_to_exclude": [
    "module",
    "function",
    "builtin_function_or_method",
    "instance",
    "_Feature"
   ],
   "window_display": false
  }
 },
 "nbformat": 4,
 "nbformat_minor": 5
}
